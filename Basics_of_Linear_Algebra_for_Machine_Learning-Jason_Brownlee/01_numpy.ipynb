{
 "cells": [
  {
   "cell_type": "markdown",
   "metadata": {},
   "source": [
    "# 1. Introduction to NumPy Arrays"
   ]
  },
  {
   "cell_type": "markdown",
   "metadata": {},
   "source": [
    "Arrays are the main data structure used in machine learning. In Python, arrays from the NumPy\n",
    "library, called N-dimensional arrays or the ndarray, are used as the primary data structure for\n",
    "representing data. In this tutorial, you will discover the N-dimensional array in NumPy for\n",
    "representing numerical and manipulating data in Python"
   ]
  },
  {
   "cell_type": "markdown",
   "metadata": {},
   "source": [
    "## 1.1 NumPy N-dimensional Array"
   ]
  },
  {
   "cell_type": "markdown",
   "metadata": {},
   "source": [
    "The main data structure in NumPy is the ndarray,\n",
    "which is a shorthand name for N-dimensional array. \n",
    "\n",
    "When working with NumPy, data in an\n",
    "ndarray is simply referred to as an array. It is a fixed-sized array in memory that contains data\n",
    "of the same type, such as integers or floating point values.\n",
    "The data type supported by an array can be accessed via the dtype attribute on the array.\n",
    "\n",
    "The dimensions of an array can be accessed via the shape attribute that returns a tuple\n",
    "describing the length of each dimension. There are a host of other attributes. A simple way\n",
    "to create an array from data or simple Python data structures like a list is to use the array()\n",
    "function. The example below creates a Python list of 3 floating point values, then creates an\n",
    "ndarray from the list and access the arrays’ shape and data type."
   ]
  },
  {
   "cell_type": "code",
   "execution_count": 1,
   "metadata": {},
   "outputs": [
    {
     "name": "stdout",
     "output_type": "stream",
     "text": [
      "[1. 2. 3.]\n",
      "(3,)\n",
      "float64\n"
     ]
    }
   ],
   "source": [
    "from numpy import array\n",
    "\n",
    "# list of data\n",
    "l = [1.0, 2.0, 3.0]\n",
    "# create array\n",
    "a = array(l)\n",
    "print(a)\n",
    "# shape of the array\n",
    "print(a.shape)\n",
    "# data type of the array\n",
    "print(a.dtype)"
   ]
  },
  {
   "cell_type": "markdown",
   "metadata": {},
   "source": []
  },
  {
   "cell_type": "markdown",
   "metadata": {},
   "source": [
    "## 1.2 Functions to create Arrays"
   ]
  },
  {
   "cell_type": "markdown",
   "metadata": {},
   "source": [
    "#### 1.2.1 Empty"
   ]
  },
  {
   "cell_type": "markdown",
   "metadata": {},
   "source": [
    "The empty() function will create a new array of the specified shape. The argument to the\n",
    "function is an array or tuple that specifies the length of each dimension of the array to create.\n",
    "The values or content of the created array will be random and will need to be assigned before\n",
    "use. The example below creates an empty 3 × 3 two-dimensional array."
   ]
  },
  {
   "cell_type": "code",
   "execution_count": 2,
   "metadata": {},
   "outputs": [
    {
     "name": "stdout",
     "output_type": "stream",
     "text": [
      "[[4.65671366e-310 0.00000000e+000 0.00000000e+000]\n",
      " [0.00000000e+000 0.00000000e+000 0.00000000e+000]\n",
      " [0.00000000e+000 0.00000000e+000 0.00000000e+000]]\n"
     ]
    }
   ],
   "source": [
    "# create empty array \n",
    "from numpy import empty\n",
    "a = empty([3,3])\n",
    "print(a)"
   ]
  },
  {
   "cell_type": "markdown",
   "metadata": {},
   "source": [
    "#### 1.2.2 Zeros"
   ]
  },
  {
   "cell_type": "markdown",
   "metadata": {},
   "source": [
    "The zeros() function will create a new array of the specified size with the contents filled with\n",
    "zero values. The argument to the function is an array or tuple that specifies the length of each\n",
    "dimension of the array to create. The example below creates a 3 × 5 zero two-dimensional array."
   ]
  },
  {
   "cell_type": "code",
   "execution_count": 3,
   "metadata": {},
   "outputs": [
    {
     "name": "stdout",
     "output_type": "stream",
     "text": [
      "[[0. 0. 0. 0. 0.]\n",
      " [0. 0. 0. 0. 0.]\n",
      " [0. 0. 0. 0. 0.]]\n"
     ]
    }
   ],
   "source": [
    "# create zero array\n",
    "from numpy import zeros\n",
    "a = zeros([3,5])\n",
    "print(a)"
   ]
  },
  {
   "cell_type": "markdown",
   "metadata": {},
   "source": [
    "#### 1.2.3 Ones\n"
   ]
  },
  {
   "cell_type": "markdown",
   "metadata": {},
   "source": [
    "The ones() function will create a new array of the specified size with the contents filled with\n",
    "one values. The argument to the function is an array or tuple that specifies the length of each\n",
    "dimension of the array to create. The example below creates a 5-element one-dimensional array."
   ]
  },
  {
   "cell_type": "code",
   "execution_count": 4,
   "metadata": {},
   "outputs": [
    {
     "name": "stdout",
     "output_type": "stream",
     "text": [
      "[1. 1. 1. 1. 1.]\n"
     ]
    }
   ],
   "source": [
    "# create one array\n",
    "from numpy import ones\n",
    "a = ones([5])\n",
    "print(a)"
   ]
  },
  {
   "cell_type": "markdown",
   "metadata": {},
   "source": [
    "## 1.3 Combining arrays"
   ]
  },
  {
   "cell_type": "markdown",
   "metadata": {},
   "source": [
    "#### 1.3.1 Vertical stack"
   ]
  },
  {
   "cell_type": "markdown",
   "metadata": {},
   "source": [
    "Given two or more existing arrays, you can stack them vertically using the vstack() function.\n",
    "For example, given two one-dimensional arrays, you can create a new two-dimensional array\n",
    "with two rows by vertically stacking them. "
   ]
  },
  {
   "cell_type": "code",
   "execution_count": 5,
   "metadata": {},
   "outputs": [
    {
     "name": "stdout",
     "output_type": "stream",
     "text": [
      "[1 2 3]\n",
      "[4 5 6]\n",
      "[[1 2 3]\n",
      " [4 5 6]]\n",
      "(2, 3)\n"
     ]
    }
   ],
   "source": [
    "from numpy import array\n",
    "from numpy import vstack\n",
    "\n",
    "a1 = array([1,2,3])\n",
    "print(a1)\n",
    "\n",
    "a2 = array([4,5,6])\n",
    "print(a2)\n",
    "\n",
    "a3 = vstack((a1, a2))\n",
    "\n",
    "print(a3)\n",
    "print(a3.shape)"
   ]
  },
  {
   "cell_type": "markdown",
   "metadata": {},
   "source": [
    "#### 1.3.2 Horizontal stack"
   ]
  },
  {
   "cell_type": "markdown",
   "metadata": {},
   "source": [
    "Given two or more existing arrays, you can stack them horizontally using the hstack() function.\n",
    "For example, given two one-dimensional arrays, you can create a new one-dimensional array or\n",
    "one row with the columns of the first and second arrays concatenated"
   ]
  },
  {
   "cell_type": "code",
   "execution_count": 6,
   "metadata": {},
   "outputs": [
    {
     "name": "stdout",
     "output_type": "stream",
     "text": [
      "[1 2 3]\n",
      "[4 5 6]\n",
      "[1 2 3 4 5 6]\n",
      "(6,)\n"
     ]
    }
   ],
   "source": [
    "from numpy import array\n",
    "from numpy import hstack\n",
    "\n",
    "a1 = array([1,2,3])\n",
    "print(a1)\n",
    "\n",
    "a2 = array([4,5,6])\n",
    "print(a2)\n",
    "\n",
    "a3 = hstack((a1, a2))\n",
    "\n",
    "print(a3)\n",
    "print(a3.shape)"
   ]
  },
  {
   "cell_type": "markdown",
   "metadata": {},
   "source": [
    "#### 1.3.3 Extensions "
   ]
  },
  {
   "cell_type": "markdown",
   "metadata": {},
   "source": [
    "More fuctions https://docs.scipy.org/doc/numpy-1.13.0/reference/routines.array-creation.html"
   ]
  },
  {
   "cell_type": "code",
   "execution_count": 7,
   "metadata": {},
   "outputs": [
    {
     "name": "stdout",
     "output_type": "stream",
     "text": [
      "[[1 2 3 4 5 6]\n",
      " [1 2 3 4 5 6]]\n",
      "[[1 2 3 4 5 6 1 2 3 4 5 6]\n",
      " [1 2 3 4 5 6 1 2 3 4 5 6]]\n",
      "[1 2 3 4 5 6 1 2 3 4 5 6 1 2 3 4 5 6 1 2 3 4 5 6]\n"
     ]
    }
   ],
   "source": [
    "a4 = vstack((a3, a3))\n",
    "print(a4)\n",
    "\n",
    "a5 = hstack((a4, a4))\n",
    "print(a5)\n",
    "\n",
    "a6 = hstack((a3, a3, a3, a3))\n",
    "print(a6)"
   ]
  },
  {
   "cell_type": "markdown",
   "metadata": {},
   "source": [
    "# 2. Index, Slice and Reshape NumPy Arrays"
   ]
  },
  {
   "cell_type": "markdown",
   "metadata": {},
   "source": [
    "## 2.1 From List to Arrays"
   ]
  },
  {
   "cell_type": "markdown",
   "metadata": {},
   "source": [
    "#### 2.1.1 One-Dimensional List to Array"
   ]
  },
  {
   "cell_type": "code",
   "execution_count": 8,
   "metadata": {},
   "outputs": [
    {
     "name": "stdout",
     "output_type": "stream",
     "text": [
      "[11 22 33 44 55]\n",
      "<class 'numpy.ndarray'>\n"
     ]
    }
   ],
   "source": [
    "# create one-dimensional array\n",
    "from numpy import array\n",
    "# list of data\n",
    "data = [11, 22, 33, 44, 55]\n",
    "# array of data\n",
    "data = array(data)\n",
    "print(data)\n",
    "print(type(data))"
   ]
  },
  {
   "cell_type": "markdown",
   "metadata": {},
   "source": [
    "#### 2.1.2 Two-Dimensional List of Lists to Array"
   ]
  },
  {
   "cell_type": "markdown",
   "metadata": {},
   "source": [
    "That is a table of\n",
    "data where each row represents a new observation and each column a new feature."
   ]
  },
  {
   "cell_type": "code",
   "execution_count": 9,
   "metadata": {},
   "outputs": [
    {
     "name": "stdout",
     "output_type": "stream",
     "text": [
      "[[11 22]\n",
      " [33 44]\n",
      " [55 66]]\n",
      "<class 'numpy.ndarray'>\n"
     ]
    }
   ],
   "source": [
    "# create two-dimensional array\n",
    "from numpy import array\n",
    "# list of data\n",
    "data = [[11, 22],\n",
    "[33, 44],\n",
    "[55, 66]]\n",
    "# array of data\n",
    "data = array(data)\n",
    "print(data)\n",
    "print(type(data))"
   ]
  },
  {
   "cell_type": "markdown",
   "metadata": {},
   "source": [
    "## 2.2 Array Indexing"
   ]
  },
  {
   "cell_type": "markdown",
   "metadata": {},
   "source": [
    "#### 2.2.1 One-Dimensional Indexing"
   ]
  },
  {
   "cell_type": "code",
   "execution_count": 10,
   "metadata": {},
   "outputs": [
    {
     "name": "stdout",
     "output_type": "stream",
     "text": [
      "11\n",
      "55\n"
     ]
    }
   ],
   "source": [
    "# index a one-dimensional array\n",
    "from numpy import array\n",
    "# define array\n",
    "data = array([11, 22, 33, 44, 55])\n",
    "# index data\n",
    "print(data[0])\n",
    "print(data[4])"
   ]
  },
  {
   "cell_type": "code",
   "execution_count": 11,
   "metadata": {},
   "outputs": [
    {
     "name": "stdout",
     "output_type": "stream",
     "text": [
      "55\n",
      "11\n"
     ]
    }
   ],
   "source": [
    "# negative array indexing\n",
    "from numpy import array\n",
    "# define array\n",
    "data = array([11, 22, 33, 44, 55])\n",
    "# index data\n",
    "print(data[-1])\n",
    "print(data[-5])"
   ]
  },
  {
   "cell_type": "code",
   "execution_count": 12,
   "metadata": {},
   "outputs": [
    {
     "name": "stdout",
     "output_type": "stream",
     "text": [
      "[11 22]\n"
     ]
    }
   ],
   "source": [
    "# index row of two-dimensional array\n",
    "from numpy import array\n",
    "# define array\n",
    "data = array([\n",
    "[11, 22],\n",
    "[33, 44],\n",
    "[55, 66]])\n",
    "# index data\n",
    "print(data[0,])"
   ]
  },
  {
   "cell_type": "markdown",
   "metadata": {},
   "source": [
    "## 2.3 Array Slicing"
   ]
  },
  {
   "cell_type": "markdown",
   "metadata": {},
   "source": [
    "#### 2.3.1 One-Dimensional Slicing"
   ]
  },
  {
   "cell_type": "code",
   "execution_count": 13,
   "metadata": {},
   "outputs": [
    {
     "name": "stdout",
     "output_type": "stream",
     "text": [
      "[11 22 33 44 55]\n"
     ]
    }
   ],
   "source": [
    "# slice a one-dimensional array\n",
    "from numpy import array\n",
    "# define array\n",
    "data = array([11, 22, 33, 44, 55])\n",
    "print(data[:])"
   ]
  },
  {
   "cell_type": "code",
   "execution_count": 14,
   "metadata": {},
   "outputs": [
    {
     "name": "stdout",
     "output_type": "stream",
     "text": [
      "[11]\n"
     ]
    }
   ],
   "source": [
    "# slice a subset of a one-dimensional array\n",
    "from numpy import array\n",
    "# define array\n",
    "data = array([11, 22, 33, 44, 55])\n",
    "print(data[0:1])"
   ]
  },
  {
   "cell_type": "markdown",
   "metadata": {},
   "source": [
    "#### 2.3.2 Two-Dimensional Slicing"
   ]
  },
  {
   "cell_type": "code",
   "execution_count": 15,
   "metadata": {},
   "outputs": [
    {
     "name": "stdout",
     "output_type": "stream",
     "text": [
      "[[11 22]\n",
      " [44 55]\n",
      " [77 88]]\n",
      "[33 66 99]\n"
     ]
    }
   ],
   "source": [
    "# split input and output data\n",
    "from numpy import array\n",
    "# define array\n",
    "data = array([\n",
    "[11, 22, 33],\n",
    "[44, 55, 66],\n",
    "[77, 88, 99]])\n",
    "# separate data\n",
    "X, y = data[:, :-1], data[:, -1]\n",
    "print(X)\n",
    "print(y)"
   ]
  },
  {
   "cell_type": "markdown",
   "metadata": {},
   "source": [
    "Tt is common to split a loaded dataset into separate train and test sets. This is a splitting of\n",
    "rows where some portion will be used to train the model and the remaining portion will be used\n",
    "to estimate the skill of the trained model. This would involve slicing all columns by specifying :\n",
    "in the second dimension index. The training dataset would be all rows from the beginning to\n",
    "the split point."
   ]
  },
  {
   "cell_type": "code",
   "execution_count": 16,
   "metadata": {},
   "outputs": [
    {
     "name": "stdout",
     "output_type": "stream",
     "text": [
      "[[11 22 33]\n",
      " [44 55 66]]\n",
      "[[77 88 99]]\n"
     ]
    }
   ],
   "source": [
    "# split train and test data\n",
    "from numpy import array\n",
    "# define array\n",
    "data = array([\n",
    "[11, 22, 33],\n",
    "[44, 55, 66],\n",
    "[77, 88, 99]])\n",
    "# separate data\n",
    "split = 2\n",
    "train,test = data[:split,:],data[split:,:]\n",
    "print(train)\n",
    "print(test)"
   ]
  },
  {
   "cell_type": "markdown",
   "metadata": {},
   "source": [
    "## 2.4 Array Reshaping"
   ]
  },
  {
   "cell_type": "markdown",
   "metadata": {},
   "source": [
    "After slicing your data, you may need to reshape it. For example, some libraries, such as\n",
    "scikit-learn, may require that a one-dimensional array of output variables (y) be shaped as a\n",
    "two-dimensional array with one column and outcomes for each column. Some algorithms, like\n",
    "the Long Short-Term Memory recurrent neural network in Keras, require input to be specified\n",
    "as a three-dimensional array comprised of samples, timesteps, and features. It is important to\n",
    "know how to reshape your NumPy arrays so that your data meets the expectation of specific\n",
    "Python libraries. We will look at these two examples."
   ]
  },
  {
   "cell_type": "markdown",
   "metadata": {},
   "source": [
    "#### 2.4.1 Data shape"
   ]
  },
  {
   "cell_type": "markdown",
   "metadata": {},
   "source": [
    "NumPy arrays have a shape attribute that returns a tuple of the length of each dimension of\n",
    "the array. "
   ]
  },
  {
   "cell_type": "code",
   "execution_count": 17,
   "metadata": {},
   "outputs": [
    {
     "name": "stdout",
     "output_type": "stream",
     "text": [
      "(5,)\n"
     ]
    }
   ],
   "source": [
    "# shape of one-dimensional array\n",
    "from numpy import array\n",
    "# define array\n",
    "data = array([11, 22, 33, 44, 55])\n",
    "print(data.shape)"
   ]
  },
  {
   "cell_type": "code",
   "execution_count": 18,
   "metadata": {},
   "outputs": [
    {
     "name": "stdout",
     "output_type": "stream",
     "text": [
      "(3, 2)\n"
     ]
    }
   ],
   "source": [
    "# shape of a two-dimensional array\n",
    "from numpy import array\n",
    "# list of data\n",
    "data = [[11, 22],\n",
    "[33, 44],\n",
    "[55, 66]]\n",
    "# array of data\n",
    "data = array(data)\n",
    "print(data.shape)"
   ]
  },
  {
   "cell_type": "markdown",
   "metadata": {},
   "source": [
    "You can use the size of your array dimensions in the shape dimension, such as specifying\n",
    "parameters. The elements of the tuple can be accessed just like an array, with the 0th index for\n",
    "the number of rows and the 1st index for the number of columns. "
   ]
  },
  {
   "cell_type": "code",
   "execution_count": 19,
   "metadata": {},
   "outputs": [
    {
     "name": "stdout",
     "output_type": "stream",
     "text": [
      "Rows: 3\n",
      "Cols: 2\n"
     ]
    }
   ],
   "source": [
    "# row and column shape of two-dimensional array\n",
    "from numpy import array\n",
    "# list of data\n",
    "data = [[11, 22],\n",
    "    [33, 44],\n",
    "    [55, 66]]\n",
    "# array of data\n",
    "data = array(data)\n",
    "print('Rows: %d' % data.shape[0])\n",
    "print('Cols: %d' % data.shape[1])"
   ]
  },
  {
   "cell_type": "markdown",
   "metadata": {},
   "source": [
    "#### 2.4.2 Reshape 1D to 2D array"
   ]
  },
  {
   "cell_type": "markdown",
   "metadata": {},
   "source": [
    "t is common to need to reshape a one-dimensional array into a two-dimensional array with\n",
    "one column and multiple arrays. NumPy provides the reshape() function on the NumPy array\n",
    "object that can be used to reshape the data. The reshape() function takes a single argument\n",
    "that specifies the new shape of the array. In the case of reshaping a one-dimensional array into\n",
    "a two-dimensional array with one column, the tuple would be the shape of the array as the first\n",
    "dimension (data.shape[0]) and 1 for the second dimension."
   ]
  },
  {
   "cell_type": "code",
   "execution_count": 20,
   "metadata": {},
   "outputs": [
    {
     "name": "stdout",
     "output_type": "stream",
     "text": [
      "(5,)\n",
      "(5, 1)\n",
      "[[11]\n",
      " [22]\n",
      " [33]\n",
      " [44]\n",
      " [55]]\n"
     ]
    }
   ],
   "source": [
    "# reshape 1D array to 2D\n",
    "from numpy import array\n",
    "# define array\n",
    "data = array([11, 22, 33, 44, 55])\n",
    "print(data.shape)\n",
    "# reshape\n",
    "data = data.reshape((data.shape[0], 1))\n",
    "print(data.shape)\n",
    "print(data)"
   ]
  },
  {
   "cell_type": "markdown",
   "metadata": {},
   "source": [
    "#### 2.4.3 Reshape 2D to 3D array"
   ]
  },
  {
   "cell_type": "markdown",
   "metadata": {},
   "source": [
    "It is common to need to reshape two-dimensional data where each row represents a sequence\n",
    "into a three-dimensional array for algorithms that expect multiple samples of one or more time\n",
    "steps and one or more features. A good example is the LSTM recurrent neural network model\n",
    "in the Keras deep learning library. The reshape function can be used directly, specifying the\n",
    "new dimensionality. This is clear with an example where each sequence has multiple time steps\n",
    "with one observation (feature) at each time step. We can use the sizes in the shape attribute on\n",
    "the array to specify the number of samples (rows) and columns (time steps) and fix the number\n",
    "of features at 1."
   ]
  },
  {
   "cell_type": "code",
   "execution_count": 21,
   "metadata": {},
   "outputs": [
    {
     "name": "stdout",
     "output_type": "stream",
     "text": [
      "(3, 2)\n",
      "(3, 2, 1)\n"
     ]
    }
   ],
   "source": [
    "# reshape 2D array to 3D\n",
    "from numpy import array\n",
    "# list of data\n",
    "data = [[11, 22],\n",
    "[33, 44],\n",
    "[55, 66]]\n",
    "# array of data\n",
    "data = array(data)\n",
    "print(data.shape)\n",
    "# reshape\n",
    "data = data.reshape((data.shape[0], data.shape[1], 1))\n",
    "print(data.shape)"
   ]
  },
  {
   "cell_type": "markdown",
   "metadata": {},
   "source": [
    "# 3. NumPy Array Broadcasting"
   ]
  },
  {
   "cell_type": "markdown",
   "metadata": {},
   "source": [
    "## 3.1 Limitation with Array Arithmetic"
   ]
  },
  {
   "cell_type": "markdown",
   "metadata": {},
   "source": [
    "Two arrays can be added together to create a new array where the values at each\n",
    "index are added together. For example, an array a can be defined as [1, 2, 3] and array b can be\n",
    "defined as [1, 2, 3] and adding together will result in a new array with the values [2, 4, 6].\n",
    "\n",
    "- a = [1, 2, 3]\n",
    "- b = [1, 2, 3]\n",
    "- c = a + b\n",
    "- c = [1 + 1, 2 + 2, 3 + 3]"
   ]
  },
  {
   "cell_type": "markdown",
   "metadata": {},
   "source": [
    "## 3.2 Array Broadcasting"
   ]
  },
  {
   "cell_type": "markdown",
   "metadata": {},
   "source": [
    "Broadcasting is the name given to the method that NumPy uses to allow array arithmetic\n",
    "between arrays with a different shape or size. Although the technique was developed for NumPy,\n",
    "it has also been adopted more broadly in other numerical computational libraries, such as\n",
    "Theano, TensorFlow, and Octave. Broadcasting solves the problem of arithmetic between arrays\n",
    "of differing shapes by in effect replicating the smaller array along the last mismatched dimension.\n",
    "\n",
    "In the context of deep learning, we also use some less conventional notation. We\n",
    "allow the addition of matrix and a vector, yielding another matrix: C = A + b, where\n",
    "Ci,j = Ai,j + bj . In other words, the vector b is added to each row of the matrix.\n",
    "This shorthand eliminates the need to define a matrix with b copied into each row\n",
    "before doing the addition. This implicit copying of b to many locations is called\n",
    "broadcasting."
   ]
  },
  {
   "cell_type": "markdown",
   "metadata": {},
   "source": [
    "## 3.3 Broadcasting in Numpy"
   ]
  },
  {
   "cell_type": "markdown",
   "metadata": {},
   "source": [
    "#### 3.3.1 Scalar and One-Dimensional Array"
   ]
  },
  {
   "cell_type": "markdown",
   "metadata": {},
   "source": [
    "A single value or scalar can be used in arithmetic with a one-dimensional array. For example,\n",
    "we can imagine a one-dimensional array a with three values [a1, a2, a3] added to a scalar b.\n",
    "\n",
    "```\n",
    "a = [a1, a2, a3]\n",
    "b\n",
    "```"
   ]
  },
  {
   "cell_type": "markdown",
   "metadata": {},
   "source": [
    "The scalar will need to be broadcast across the one-dimensional array by duplicating the\n",
    "value it 2 more times.\n",
    "\n",
    "``` b = [b1, b2, b3]```"
   ]
  },
  {
   "cell_type": "markdown",
   "metadata": {},
   "source": [
    "The scalar will need to be broadcast across the one-dimensional array by duplicating the\n",
    "value it 2 more times.\n",
    "\n",
    "```\n",
    "b = [b1, b2, b3]\n",
    "```"
   ]
  },
  {
   "cell_type": "markdown",
   "metadata": {},
   "source": [
    "The two one-dimensional arrays can then be added directly.\n",
    "\n",
    "```\n",
    "c = a + b\n",
    "c = [a1 + b1, a2 + b2, a3 + b3]\n",
    "```"
   ]
  },
  {
   "cell_type": "code",
   "execution_count": 22,
   "metadata": {},
   "outputs": [
    {
     "name": "stdout",
     "output_type": "stream",
     "text": [
      "[1 2 3]\n",
      "2\n",
      "[3 4 5]\n"
     ]
    }
   ],
   "source": [
    "# broadcast scalar to one-dimensional array\n",
    "from numpy import array\n",
    "# define array\n",
    "a = array([1, 2, 3])\n",
    "print(a)\n",
    "# define scalar\n",
    "b = 2\n",
    "print(b)\n",
    "# broadcast\n",
    "c = a + b\n",
    "print(c)"
   ]
  },
  {
   "cell_type": "markdown",
   "metadata": {},
   "source": [
    "#### 3.3.2 Scalar and Two-Dimensional Array"
   ]
  },
  {
   "cell_type": "markdown",
   "metadata": {},
   "source": [
    "A scalar value can be used in arithmetic with a two-dimensional array. For example, we can imagine a two-dimensional array \\( A \\) with 2 rows and 3 columns added to the scalar \\( b \\).\n",
    "\n",
    "$$\n",
    "A = \\begin{pmatrix}\n",
    "a_{1,1} & a_{1,2} & a_{1,3} \\\\\n",
    "a_{2,1} & a_{2,2} & a_{2,3}\n",
    "\\end{pmatrix}\n",
    "$$\n",
    "\n",
    "The scalar will need to be broadcast across each row of the two-dimensional array by duplicating it 5 more times.\n",
    "\n",
    "$$\n",
    "B = \\begin{pmatrix}\n",
    "b_{1,1} & b_{1,2} & b_{1,3} \\\\\n",
    "b_{2,1} & b_{2,2} & b_{2,3}\n",
    "\\end{pmatrix}\n",
    "$$\n",
    "\n",
    "The two two-dimensional arrays can then be added directly.\n",
    "\n",
    "$$\n",
    "C = A + B \n",
    "$$\n",
    "\n",
    "$$\n",
    "C = \\begin{pmatrix}\n",
    "a_{1,1} + b_{1,1} & a_{1,2} + b_{1,2} & a_{1,3} + b_{1,3} \\\\\n",
    "a_{2,1} + b_{2,1} & a_{2,2} + b_{2,2} & a_{2,3} + b_{2,3}\n",
    "\\end{pmatrix}\n",
    "$$"
   ]
  },
  {
   "cell_type": "code",
   "execution_count": 23,
   "metadata": {},
   "outputs": [
    {
     "name": "stdout",
     "output_type": "stream",
     "text": [
      "[[1 2 3]\n",
      " [1 2 3]]\n",
      "2\n",
      "[[3 4 5]\n",
      " [3 4 5]]\n"
     ]
    }
   ],
   "source": [
    "# broadcast scalar to two-dimensional array\n",
    "from numpy import array\n",
    "# define array\n",
    "A = array([\n",
    "[1, 2, 3],\n",
    "[1, 2, 3]])\n",
    "print(A)\n",
    "# define scalar\n",
    "b = 2\n",
    "print(b)\n",
    "# broadcast\n",
    "C = A + b\n",
    "print(C)"
   ]
  },
  {
   "cell_type": "markdown",
   "metadata": {},
   "source": [
    "#### 3.3.3 One-Dimensional and Two-Dimensional Arrays"
   ]
  },
  {
   "cell_type": "markdown",
   "metadata": {},
   "source": [
    "A one-dimensional array can be used in arithmetic with a two-dimensional array. for example, we can imagine a two-dimensional array $A$ with 2 rows and 3 columns added to a one-dimensional array $b$ with 3 values.\n",
    "\n",
    "$$\n",
    "A = \\begin{pmatrix}\n",
    "a_{1,1} & a_{1,2} & a_{1,3} \\\\\n",
    "a_{2,1} & a_{2,2} & a_{2,3}\n",
    "\\end{pmatrix}\n",
    "$$\n",
    "\n",
    "$$\n",
    "b = \\begin{pmatrix}\n",
    "b_1 & b_2 & b_3\n",
    "\\end{pmatrix}\n",
    "$$\n",
    "\n",
    "The one-dimensional array is broadcast across each row of the two-dimensional array by creating a second copy to result in a new two-dimensional array $B$.\n",
    "\n",
    "$$\n",
    "B = \\begin{pmatrix}\n",
    "b_{1,1} & b_{1,2} & b_{1,3} \\\\\n",
    "b_{2,1} & b_{2,2} & b_{2,3}\n",
    "\\end{pmatrix}\n",
    "$$\n",
    "\n",
    "The two two-dimensional arrays can then be added directly.\n",
    "\n",
    "$$\n",
    "C = A + B\n",
    "$$\n",
    "\n",
    "$$\n",
    "C = \\begin{pmatrix}\n",
    "a_{1,1} + b_{1,1} & a_{1,2} + b_{1,2} & a_{1,3} + b_{1,3} \\\\\n",
    "a_{2,1} + b_{2,1} & a_{2,2} + b_{2,2} & a_{2,3} + b_{2,3}\n",
    "\\end{pmatrix}\n",
    "$$"
   ]
  },
  {
   "cell_type": "code",
   "execution_count": 24,
   "metadata": {},
   "outputs": [
    {
     "name": "stdout",
     "output_type": "stream",
     "text": [
      "[[1 2 3]\n",
      " [1 2 3]]\n",
      "[1 2 3]\n",
      "[[2 4 6]\n",
      " [2 4 6]]\n"
     ]
    }
   ],
   "source": [
    "# broadcast one-dimensional array to two-dimensional array\n",
    "from numpy import array\n",
    "# define two-dimensional array\n",
    "A = array([\n",
    "[1, 2, 3],\n",
    "[1, 2, 3]])\n",
    "print(A)\n",
    "# define one-dimensional array\n",
    "b = array([1, 2, 3])\n",
    "print(b)\n",
    "# broadcast\n",
    "C = A + b\n",
    "print(C)"
   ]
  },
  {
   "cell_type": "markdown",
   "metadata": {},
   "source": [
    "## 3.4 Limitations of Broadcasting"
   ]
  },
  {
   "cell_type": "markdown",
   "metadata": {},
   "source": [
    "Broadcasting is a handy shortcut that proves very useful in practice when working with NumPy\n",
    "arrays. That being said, it does not work for all cases, and in fact imposes a strict rule that\n",
    "must be satisfied for broadcasting to be performed. Arithmetic, including broadcasting, can\n",
    "only be performed when the shape of each dimension in the arrays are equal or one has the\n",
    "dimension size of 1. The dimensions are considered in reverse order, starting with the trailing\n",
    "dimension; for example, looking at columns before rows in a two-dimensional case.\n",
    "This make more sense when we consider that NumPy will in effect pad missing dimensions\n",
    "with a size of 1 when comparing arrays. Therefore, the comparison between a two-dimensional\n",
    "array A with 2 rows and 3 columns and a vector b with 3 elements:"
   ]
  },
  {
   "attachments": {
    "image.png": {
     "image/png": "[encoded data removed]"
    }
   },
   "cell_type": "markdown",
   "metadata": {},
   "source": [
    "![image.png](attachment:image.png)"
   ]
  },
  {
   "cell_type": "code",
   "execution_count": 25,
   "metadata": {},
   "outputs": [
    {
     "name": "stdout",
     "output_type": "stream",
     "text": [
      "(2, 3)\n",
      "(2,)\n"
     ]
    },
    {
     "ename": "ValueError",
     "evalue": "operands could not be broadcast together with shapes (2,3) (2,) ",
     "output_type": "error",
     "traceback": [
      "\u001b[0;31m---------------------------------------------------------------------------\u001b[0m",
      "\u001b[0;31mValueError\u001b[0m                                Traceback (most recent call last)",
      "Cell \u001b[0;32mIn[25], line 12\u001b[0m\n\u001b[1;32m     10\u001b[0m \u001b[38;5;28mprint\u001b[39m(b\u001b[38;5;241m.\u001b[39mshape)\n\u001b[1;32m     11\u001b[0m \u001b[38;5;66;03m# attempt broadcast\u001b[39;00m\n\u001b[0;32m---> 12\u001b[0m C \u001b[38;5;241m=\u001b[39m \u001b[43mA\u001b[49m\u001b[43m \u001b[49m\u001b[38;5;241;43m+\u001b[39;49m\u001b[43m \u001b[49m\u001b[43mb\u001b[49m\n\u001b[1;32m     13\u001b[0m \u001b[38;5;28mprint\u001b[39m(C)\n",
      "\u001b[0;31mValueError\u001b[0m: operands could not be broadcast together with shapes (2,3) (2,) "
     ]
    }
   ],
   "source": [
    "# broadcasting error\n",
    "from numpy import array\n",
    "# define two-dimensional array\n",
    "A = array([\n",
    "[1, 2, 3],\n",
    "[1, 2, 3]])\n",
    "print(A.shape)\n",
    "# define one-dimensional array\n",
    "b = array([1, 2])\n",
    "print(b.shape)\n",
    "# attempt broadcast\n",
    "C = A + b\n",
    "print(C)"
   ]
  }
 ],
 "metadata": {
  "kernelspec": {
   "display_name": "Python 3",
   "language": "python",
   "name": "python3"
  },
  "language_info": {
   "codemirror_mode": {
    "name": "ipython",
    "version": 3
   },
   "file_extension": ".py",
   "mimetype": "text/x-python",
   "name": "python",
   "nbconvert_exporter": "python",
   "pygments_lexer": "ipython3",
   "version": "3.10.12"
  }
 },
 "nbformat": 4,
 "nbformat_minor": 2
}
