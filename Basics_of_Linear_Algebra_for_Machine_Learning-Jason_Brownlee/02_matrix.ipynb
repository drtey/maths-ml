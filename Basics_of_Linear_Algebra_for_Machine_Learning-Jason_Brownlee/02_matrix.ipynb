{
 "cells": [
  {
   "cell_type": "markdown",
   "metadata": {},
   "source": [
    "# 4. Vectors"
   ]
  },
  {
   "cell_type": "markdown",
   "metadata": {},
   "source": [
    "## 4.1 Define a vector"
   ]
  },
  {
   "cell_type": "markdown",
   "metadata": {},
   "source": [
    "We can represent a vector in Python as a NumPy array. A NumPy array can be created from a list of numbers. For example, below we define a vector with a length of 3 and the integer values 1, 2, and 3."
   ]
  },
  {
   "cell_type": "code",
   "execution_count": 73,
   "metadata": {},
   "outputs": [
    {
     "name": "stdout",
     "output_type": "stream",
     "text": [
      "[1 2 3]\n"
     ]
    }
   ],
   "source": [
    "# create a vector\n",
    "from numpy import array\n",
    "# define vector\n",
    "v = array([1, 2, 3])\n",
    "print(v)"
   ]
  },
  {
   "cell_type": "markdown",
   "metadata": {},
   "source": [
    "## 4.2 Operations with vectors"
   ]
  },
  {
   "cell_type": "markdown",
   "metadata": {},
   "source": [
    "#### 4.2.1 Vector Addition"
   ]
  },
  {
   "cell_type": "markdown",
   "metadata": {},
   "source": [
    "- **Basic Operation**: It is indicated that two vectors of equal length can be added together. This means that if you have two vectors, (a) and (b), you can add (b) to (a) to obtain a new vector (c).\n",
    "\n",
    "- **Result of Addition**: The resulting vector (c) has the same length as the original vectors (a) and (b). Each element of this new vector (c) is calculated as the sum of the corresponding elements of (a) and (b) at the same indices.\n",
    "\n",
    "- **Mathematical Expression**: The operation can be simply expressed as $c = a + b$. This breaks down element by element as follows:\n",
    "\n",
    "$$\n",
    "c = (a_1 + b_1, a_2 + b_2, a_3 + b_3)\n",
    "$$\n",
    "\n",
    "Or, expressed another way, for each element of the resulting vector (c), it is calculated by summing the corresponding elements of (a) and (b):\n",
    "\n",
    "$$\n",
    "\\begin{aligned}\n",
    "c[0] &= a[0] + b[0] \\\\\n",
    "c[1] &= a[1] + b[1] \\\\\n",
    "c[2] &= a[2] + b[2]\n",
    "\\end{aligned}\n",
    "$$"
   ]
  },
  {
   "cell_type": "code",
   "execution_count": 74,
   "metadata": {},
   "outputs": [
    {
     "name": "stdout",
     "output_type": "stream",
     "text": [
      "[1 2 3]\n",
      "[1 2 3]\n",
      "[2 4 6]\n"
     ]
    }
   ],
   "source": [
    "# vector addition\n",
    "from numpy import array\n",
    "# define first vector\n",
    "a = array([1, 2, 3])\n",
    "print(a)\n",
    "# define second vector\n",
    "b = array([1, 2, 3])\n",
    "print(b)\n",
    "# add vectors\n",
    "c = a + b\n",
    "print(c)"
   ]
  },
  {
   "cell_type": "markdown",
   "metadata": {},
   "source": [
    "#### 4.4.2 Vector Subtraction"
   ]
  },
  {
   "cell_type": "markdown",
   "metadata": {},
   "source": [
    "- **Basic Operation**: It is indicated that one vector can be subtracted from another vector of equal length. This means that if you have two vectors, (a) and (b), you can subtract (b) from (a) to obtain a new vector (c).\n",
    "\n",
    "- **Result of Subtraction**: The resulting vector (c) has the same length as the original vectors (a) and (b). Each element of this new vector (c) is calculated as the subtraction of the corresponding elements of (a) and (b) at the same indices.\n",
    "\n",
    "- **Mathematical Expression**: The operation can be simply expressed as $c = a - b$. This breaks down element by element as follows:\n",
    "\n",
    "$$\n",
    "c = (a_1 - b_1, a_2 - b_2, a_3 - b_3)\n",
    "$$\n",
    "\n",
    "Or, expressed another way, for each element of the resulting vector (c), it is calculated by subtracting the corresponding elements of (a) and (b):\n",
    "\n",
    "$$\n",
    "\\begin{aligned}\n",
    "c[0] &= a[0] - b[0] \\\\\n",
    "c[1] &= a[1] - b[1] \\\\\n",
    "c[2] &= a[2] - b[2]\n",
    "\\end{aligned}\n",
    "$$"
   ]
  },
  {
   "cell_type": "code",
   "execution_count": 75,
   "metadata": {},
   "outputs": [
    {
     "name": "stdout",
     "output_type": "stream",
     "text": [
      "[1 2 3]\n",
      "[0.5 0.5 0.5]\n",
      "[0.5 1.5 2.5]\n"
     ]
    }
   ],
   "source": [
    "# vector subtraction\n",
    "from numpy import array\n",
    "# define first vector\n",
    "a = array([1, 2, 3])\n",
    "print(a)\n",
    "# define second vector\n",
    "b = array([0.5, 0.5, 0.5])\n",
    "print(b)\n",
    "# subtract vectors\n",
    "c = a - b\n",
    "print(c)"
   ]
  },
  {
   "cell_type": "markdown",
   "metadata": {},
   "source": [
    "#### 4.4.3 Vector multiplication"
   ]
  },
  {
   "cell_type": "markdown",
   "metadata": {},
   "source": [
    "When you have two vectors, say (a) and (b), of the same length, you can multiply them element-wise. This means that you multiply each element of vector (a) by the corresponding element in the same position of vector (b). The result is a new vector (c) of the same length as the original vectors, where each element (c[i]) is the product of (a[i] \\times b[i]).\n",
    "\n",
    "The operation is mathematically described as follows:\n",
    "\n",
    "- For two vectors (a) and (b), the resulting vector (c) is calculated as:\n",
    "\n",
    "$$\n",
    "c = a \\times b\n",
    "$$\n",
    "\n",
    "- This is done element-wise, resulting in a new vector (c) of the same length:\n",
    "\n",
    "$$\n",
    "c = (a_1 \\times b_1, a_2 \\times b_2, a_3 \\times b_3)\n",
    "$$\n",
    "\n",
    "- Or more simply:\n",
    "\n",
    "$$\n",
    "c = (a_1 b_1, a_2 b_2, a_3 b_3)\n",
    "$$\n",
    "\n",
    "- Another way to see it is by assigning each product to the corresponding position in the resulting vector:\n",
    "\n",
    "$$\n",
    "\\begin{aligned}\n",
    "c[0] &= a[0] \\times b[0] \\\\\n",
    "c[1] &= a[1] \\times b[1] \\\\\n",
    "c[2] &= a[2] \\times b[2]\n",
    "\\end{aligned}\n",
    "$$"
   ]
  },
  {
   "cell_type": "code",
   "execution_count": 76,
   "metadata": {},
   "outputs": [
    {
     "name": "stdout",
     "output_type": "stream",
     "text": [
      "[1 2 3]\n",
      "[1 2 3]\n",
      "[1 4 9]\n"
     ]
    }
   ],
   "source": [
    "# vector multiplication\n",
    "from numpy import array\n",
    "# define first vector\n",
    "a = array([1, 2, 3])\n",
    "print(a)\n",
    "# define second vector\n",
    "b = array([1, 2, 3])\n",
    "print(b)\n",
    "# multiply vectors\n",
    "c = a * b\n",
    "print(c)"
   ]
  },
  {
   "cell_type": "markdown",
   "metadata": {},
   "source": [
    "#### 4.4.4 Vector division"
   ]
  },
  {
   "cell_type": "markdown",
   "metadata": {},
   "source": [
    "Given two vectors (a) and (b) of equal length, element-wise division is performed by taking each element of vector (a) and dividing it by the corresponding element of vector (b), resulting in a new vector (c) of the same length. Mathematically, this is represented as:\n",
    "\n",
    "$$\n",
    "c = \\left( \\frac{a_1}{b_1}, \\frac{a_2}{b_2}, \\frac{a_3}{b_3}, \\ldots, \\frac{a_n}{b_n} \\right)\n",
    "$$\n",
    "\n",
    "Where $(a_i)$ and $(b_i)$ are the elements of vectors (a) and (b) respectively, and $(n)$ is the length of the vectors."
   ]
  },
  {
   "cell_type": "code",
   "execution_count": 77,
   "metadata": {},
   "outputs": [
    {
     "name": "stdout",
     "output_type": "stream",
     "text": [
      "[1 2 3]\n",
      "[1 2 3]\n",
      "[1. 1. 1.]\n"
     ]
    }
   ],
   "source": [
    "# vector division\n",
    "from numpy import array\n",
    "# define first vector\n",
    "a = array([1, 2, 3])\n",
    "print(a)\n",
    "# define second vector\n",
    "b = array([1, 2, 3])\n",
    "print(b)\n",
    "# divide vectors\n",
    "c = a / b\n",
    "print(c)"
   ]
  },
  {
   "cell_type": "markdown",
   "metadata": {},
   "source": [
    "## 4.3 Dot Product"
   ]
  },
  {
   "cell_type": "markdown",
   "metadata": {},
   "source": [
    "The dot product, also known as the scalar product, is a mathematical operation that takes two vectors of equal length and returns a single scalar number. This operation is fundamental in various areas of mathematics, physics, and engineering, especially in the field of linear algebra and vector analysis.\n",
    "\n",
    "The operation is performed by correspondingly multiplying the elements of the two vectors and then summing those products. Mathematically, if we have two vectors (a) and (b), the dot product is calculated as:\n",
    "\n",
    "$$\n",
    "c = a \\cdot b = (a_1 \\times b_1 + a_2 \\times b_2 + a_3 \\times b_3)\n",
    "$$\n",
    "\n",
    "Or more compactly for vectors of any length (n):\n",
    "\n",
    "$$\n",
    "c = \\sum_{i=1}^{n} a_i b_i\n",
    "$$\n",
    "\n",
    "### Applications and Uses\n",
    "\n",
    "1. **Vector Projections**: The dot product is used to calculate the projection of one vector onto another. This is useful in physics for decomposing forces and in computer graphics for calculating shadows and reflections.\n",
    "\n",
    "2. **Determining Orthogonality**: Two vectors are orthogonal (perpendicular) if their dot product is zero. This property is fundamental in defining orthogonal bases in vector spaces.\n",
    "\n",
    "3. **Angle Calculation**: The dot product is used along with the norm of the vectors to calculate the angle between them using the formula:\n",
    "\n",
    "$$\n",
    "\\cos(\\theta) = \\frac{a \\cdot b}{|a| |b|}\n",
    "$$\n",
    "\n",
    "4. **Applications in Machine Learning**: In machine learning, the dot product is used to calculate weighted sums of features, especially in linear models like linear regression and neural networks.\n",
    "\n",
    "5. **Vector Decomposition**: It allows decomposing a vector into parallel and perpendicular components with respect to another vector, which is useful in force analysis, for example."
   ]
  },
  {
   "cell_type": "code",
   "execution_count": 78,
   "metadata": {},
   "outputs": [
    {
     "name": "stdout",
     "output_type": "stream",
     "text": [
      "[1, 2, 3]\n",
      "[1, 2, 3]\n",
      "14\n"
     ]
    }
   ],
   "source": [
    "# Define the first vector\n",
    "a = [1, 2, 3]\n",
    "print(a)\n",
    "# Define the second vector\n",
    "b = [1, 2, 3]\n",
    "print(b)\n",
    "# Multiply vectors and sum the results to obtain the dot product\n",
    "c = a[0]*b[0] + a[1]*b[1] + a[2]*b[2]\n",
    "print(c)"
   ]
  },
  {
   "cell_type": "markdown",
   "metadata": {},
   "source": [
    "In Python, the NumPy library offers an efficient way to calculate the dot product between two vectors using the ```dot()``` function."
   ]
  },
  {
   "cell_type": "code",
   "execution_count": 79,
   "metadata": {},
   "outputs": [
    {
     "name": "stdout",
     "output_type": "stream",
     "text": [
      "[1 2 3]\n",
      "[1 2 3]\n",
      "14\n"
     ]
    }
   ],
   "source": [
    "# vector dot product\n",
    "from numpy import array\n",
    "# define first vector\n",
    "a = array([1, 2, 3])\n",
    "print(a)\n",
    "# define second vector\n",
    "b = array([1, 2, 3])\n",
    "print(b)\n",
    "# multiply vectors\n",
    "c = a.dot(b)\n",
    "print(c)"
   ]
  },
  {
   "cell_type": "markdown",
   "metadata": {},
   "source": [
    "## 4.4 Multiplication of a Vector by a Scalar"
   ]
  },
  {
   "cell_type": "markdown",
   "metadata": {},
   "source": [
    "The multiplication of a vector by a scalar is performed by multiplying each element of the vector by the scalar. This results in a new vector whose length is the same as the original vector, but each of its elements has been scaled by (s). Mathematically, if we have a vector (v) and a scalar (s), the resulting vector (c) is calculated as:\n",
    "\n",
    "$$\n",
    "c = s \\times v\n",
    "$$\n",
    "\n",
    "Or more specifically, if the vector (v) has elements $(v_1, v_2, v_3)$, then the scaled vector (c) will have elements:\n",
    "\n",
    "$$\n",
    "c = (s \\times v_1, s \\times v_2, s \\times v_3)\n",
    "$$\n",
    "\n",
    "This can be expressed element by element as:\n",
    "\n",
    "$$\n",
    "\\begin{aligned}\n",
    "c[0] &= v[0] \\times s \\\\\n",
    "c[1] &= v[1] \\times s \\\\\n",
    "c[2] &= v[2] \\times s\n",
    "\\end{aligned}\n",
    "$$\n",
    "\n",
    "### Applications and Uses in Mathematics\n",
    "\n",
    "The multiplication of a vector by a scalar has various applications and uses in mathematics, physics, and other sciences:\n",
    "\n",
    "- **Change of Magnitude**: It allows changing the magnitude of a vector without altering its direction. This is useful in physics to model phenomena such as acceleration or force, where the magnitude of a vector needs to be adjusted while keeping its direction constant.\n",
    "\n",
    "- **Linear Transformations**: It is fundamental in the study of linear transformations and matrices. Scalar multiplication is a basic operation in linear algebra, used in the definition of vector spaces and their properties.\n",
    "\n",
    "- **Graphics and Visualization**: In computer graphics, the multiplication of vectors by scalars is used to scale objects, adjusting their size without changing their shape.\n",
    "\n",
    "- **Data Adjustment**: In data analysis and statistics, it is often necessary to adjust the values of a dataset by multiplying them by a scalar factor to normalize them or to make comparisons on a common scale."
   ]
  },
  {
   "cell_type": "code",
   "execution_count": 80,
   "metadata": {},
   "outputs": [
    {
     "name": "stdout",
     "output_type": "stream",
     "text": [
      "[1 2 3]\n",
      "0.5\n",
      "[0.5 1.  1.5]\n"
     ]
    }
   ],
   "source": [
    "# vector-scalar multiplication\n",
    "from numpy import array\n",
    "# define vector\n",
    "a = array([1, 2, 3])\n",
    "print(a)\n",
    "# define scalar\n",
    "s = 0.5\n",
    "print(s)\n",
    "# multiplication\n",
    "c = s * a\n",
    "print(c)"
   ]
  },
  {
   "cell_type": "markdown",
   "metadata": {},
   "source": [
    "# 5. Vector Norm"
   ]
  },
  {
   "cell_type": "markdown",
   "metadata": {},
   "source": [
    "Calculating the length or magnitude of vectors is often necessary, either directly as a regularization method in machine learning, or as part of broader vector or matrix operations. In this tutorial, you will discover the different ways to calculate the lengths or magnitudes of vectors, known as the vector norm."
   ]
  },
  {
   "cell_type": "markdown",
   "metadata": {},
   "source": [
    "## 5.1 Vector norm"
   ]
  },
  {
   "cell_type": "markdown",
   "metadata": {},
   "source": [
    "Calculating the size or length of a vector is often necessary, either directly or as part of a broader vector or vector-matrix operation. The length of the vector is known as the vector norm or the magnitude of the vector.\n",
    "\n",
    "> The length of a vector is a non-negative number that describes the extent of the vector in space, and is sometimes referred to as the magnitude of the vector or the norm.\n",
    ">\n",
    "> — page 112, _no bullshit guide to linear algebra_, 2017.\n",
    "\n",
    "The length of the vector is always a positive number, except for a vector of all zero values. It is calculated using some measure that summarizes the distance of the vector from the origin of the vector space. For example, the origin of a vector space for a vector with 3 elements is $(0, 0, 0)$. Notations are used to represent the vector norm in broader calculations, and the type of vector norm calculation almost always has its own unique notation. Let's take a look at some common vector norm calculations used in machine learning."
   ]
  },
  {
   "cell_type": "markdown",
   "metadata": {},
   "source": [
    "## 5.2 Vector $L^1$ Norm"
   ]
  },
  {
   "cell_type": "markdown",
   "metadata": {},
   "source": [
    "The text fragment describes the calculation of the length of a vector using the $L^1$ norm, also known as the taxicab norm or Manhattan norm. The notation for the $L^1$ norm of a vector is $\\|v\\|_1$, where the 1 is a subscript. This method calculates the length of a vector as the sum of the absolute values of its components.\n",
    "\n",
    "### Operation\n",
    "\n",
    "The $L^1$ norm is calculated by summing the absolute values of the elements of the vector. Mathematically, if you have a vector \\(v\\) with components $|a|_1, |a|_2, |a|_3$, the $L^1$ norm is calculated as:\n",
    "\n",
    "$$\n",
    "\\|v\\|_1 = |a_1| + |a_2| + |a_3|\n",
    "$$\n",
    "\n",
    "The absolute value, denoted by \\(|a|\\), of a scalar number \\(a\\) is its value without regard to the sign. This means that both positive and negative values are treated as positive for the purposes of this calculation.\n",
    "\n",
    "### Applications and Uses in Mathematics\n",
    "\n",
    "The $L^1$ norm has several important applications in mathematics, data science, and machine learning:\n",
    "\n",
    "- **Distance Measurement:** The Manhattan norm is used to measure distance in grids that allow only vertical and horizontal movements, such as a city grid divided into blocks.\n",
    "\n",
    "- **Regularization in Machine Learning:** In machine learning, the $L^1$ norm is used as a regularization technique known as Lasso (Least Absolute Shrinkage and Selection Operator). Lasso regularization can help simplify models by forcing the sum of the absolute values of the model's coefficients to be less than a fixed value, which can make some coefficients exactly zero and thus eliminate some features from the model.\n",
    "\n",
    "- **Discrimination of Null and Non-Null Elements:** In certain machine learning applications, it is important to distinguish between elements that are exactly zero and those that are small but non-zero. The $L^1$ norm is useful in these cases because it grows at the same rate in all locations while maintaining mathematical simplicity."
   ]
  },
  {
   "cell_type": "code",
   "execution_count": 81,
   "metadata": {},
   "outputs": [
    {
     "name": "stdout",
     "output_type": "stream",
     "text": [
      "Absolute values: 1 2 3\n",
      "Vector: [1, -2, 3]\n",
      "L^1 norm of the vector calculated: 6\n"
     ]
    }
   ],
   "source": [
    "# Define a vector with 3 elements\n",
    "v = [1, -2, 3]\n",
    "\n",
    "# Manually calculate the absolute value of each element\n",
    "abs_v0 = v[0] if v[0] >= 0 else -v[0]\n",
    "abs_v1 = v[1] if v[1] >= 0 else -v[1]\n",
    "abs_v2 = v[2] if v[2] >= 0 else -v[2]\n",
    "\n",
    "# Manually calculate the L^1 norm by summing the absolute values\n",
    "l1_norm = abs_v0 + abs_v1 + abs_v2\n",
    "\n",
    "print(\"Absolute values:\", abs_v0, abs_v1, abs_v2)\n",
    "print(\"Vector:\", v)\n",
    "print(\"L^1 norm of the vector calculated:\", l1_norm)"
   ]
  },
  {
   "cell_type": "markdown",
   "metadata": {},
   "source": [
    "### Implementation in NumPy\n",
    "\n",
    "The $L^1$ norm of a vector can be easily calculated in Python using the NumPy library, specifically the `norm()` function from the `numpy.linalg` submodule, passing 1 as the order parameter of the norm. Here is an example of how to perform this calculation:\n",
    "\n",
    "This approach provides an efficient and straightforward way to calculate the $L^1$ norm, facilitating its application in various fields of science and technology."
   ]
  },
  {
   "cell_type": "code",
   "execution_count": 82,
   "metadata": {},
   "outputs": [
    {
     "name": "stdout",
     "output_type": "stream",
     "text": [
      "Vector: [ 1 -2  3]\n",
      "L^1 norm of the vector: 6.0\n"
     ]
    }
   ],
   "source": [
    "import numpy as np\n",
    "\n",
    "# Define a vector with 3 elements\n",
    "v = np.array([1, -2, 3])\n",
    "\n",
    "# Calculate the L^1 norm\n",
    "norma_l1 = np.linalg.norm(v, 1)\n",
    "\n",
    "print(\"Vector:\", v)\n",
    "print(\"L^1 norm of the vector:\", norma_l1)"
   ]
  },
  {
   "cell_type": "markdown",
   "metadata": {},
   "source": [
    "## 5.3 Euclidean Norm"
   ]
  },
  {
   "cell_type": "markdown",
   "metadata": {},
   "source": [
    "The $L^2$ norm of a vector, also known as the Euclidean norm, is a measure of the length or magnitude of the vector. It is calculated as the square root of the sum of the squares of its components. The notation for the $L^2$ norm of a vector is $\\|v\\|_2$, where the 2 is a subscript.\n",
    "\n",
    "The formula to calculate the $L^2$ norm of a vector \\(v\\) with components \\(a_1, a_2, a_3\\) is:\n",
    "\n",
    "$$\n",
    "\\|v\\|_2 = \\sqrt{a_1^2 + a_2^2 + a_3^2}\n",
    "$$\n",
    "\n",
    "This formula calculates the distance of the vector from the origin of the vector space to the point defined by the vector, using the Euclidean distance (the most common way to measure distances in space).\n",
    "\n",
    "### Operation\n",
    "\n",
    "The calculation of the $L^2$ norm involves two main steps:\n",
    "\n",
    "1. Squaring each component of the vector.\n",
    "2. Summing all the squared values obtained and taking the square root of the result.\n",
    "\n",
    "This process results in a positive value that represents the distance of the vector to the origin of the vector space.\n",
    "\n",
    "### Applications and Uses in Mathematics\n",
    "\n",
    "The $L^2$ norm has several important applications in both mathematics and computer science, including:\n",
    "\n",
    "- **Distance Measurement:** It is the basis of Euclidean geometry and is used to measure the distance between points in space.\n",
    "- **Regularization in Machine Learning:** In the context of machine learning, the $L^2$ norm is used as a regularization method (known as Ridge or Tikhonov regularization) to prevent overfitting by keeping the model's coefficients small, which in turn makes the model less complex.\n",
    "- **Optimization:** The $L^2$ norm is used in optimization algorithms, especially those that require a measure of distance or length, such as gradient descent."
   ]
  },
  {
   "cell_type": "code",
   "execution_count": 83,
   "metadata": {},
   "outputs": [
    {
     "name": "stdout",
     "output_type": "stream",
     "text": [
      "The L^2 norm of the vector is: 3.7416573867739413\n"
     ]
    }
   ],
   "source": [
    "# Define the vector\n",
    "v = [1, 2, 3]\n",
    "\n",
    "# Step 1: Square each component of the vector\n",
    "squares = [x**2 for x in v]\n",
    "\n",
    "# Step 2: Sum all the squared values\n",
    "sum_squares = sum(squares)\n",
    "\n",
    "# Step 3: Take the square root of the sum result\n",
    "l2_norm = sum_squares**0.5\n",
    "\n",
    "print(\"The L^2 norm of the vector is:\", l2_norm)"
   ]
  },
  {
   "cell_type": "markdown",
   "metadata": {},
   "source": [
    "### Implementation in NumPy\n",
    "\n",
    "The $L^2$ norm of a vector can be easily calculated in Python using the NumPy library, specifically the `norm()` function from the `numpy.linalg` submodule, which by default calculates the $L^2$ norm if no other parameter is specified."
   ]
  },
  {
   "cell_type": "code",
   "execution_count": 84,
   "metadata": {},
   "outputs": [
    {
     "name": "stdout",
     "output_type": "stream",
     "text": [
      "[1 2 3]\n",
      "3.7416573867739413\n"
     ]
    }
   ],
   "source": [
    "from numpy import array\n",
    "from numpy.linalg import norm\n",
    "\n",
    "# Define vector\n",
    "a = array([1, 2, 3])\n",
    "print(a)\n",
    "\n",
    "# Calculate L^2 norm\n",
    "l2 = norm(a)\n",
    "print(l2)"
   ]
  },
  {
   "cell_type": "markdown",
   "metadata": {},
   "source": [
    "## 5.4 Maximum Norm"
   ]
  },
  {
   "cell_type": "markdown",
   "metadata": {},
   "source": [
    "The maximum norm, also known as the max norm or $L^{\\infty}$, is a way to calculate the length of a vector that, instead of summing or combining the components of the vector in some way, simply takes the largest absolute value of all the components of the vector. The notation for the maximum norm of a vector is $\\|v\\|_{\\infty}$, where the subscript $\\infty$ represents the concept of infinity.\n",
    "\n",
    "The formula to calculate the maximum norm of a vector \\(v\\) with components \\(a_1, a_2, a_3\\) is:\n",
    "\n",
    "$$\n",
    "\\|v\\|_{\\infty} = \\max(a_1, a_2, a_3)\n",
    "$$\n",
    "\n",
    "This means that the absolute value of each component of the vector is taken, and from these values, the largest is selected as the maximum norm of the vector.\n",
    "\n",
    "### Operation\n",
    "\n",
    "The calculation of the maximum norm involves two main steps:\n",
    "\n",
    "1. Taking the absolute value of each component of the vector.\n",
    "2. Selecting the largest of these absolute values.\n",
    "\n",
    "This process results in the largest absolute value of the components of the vector, representing the \"length\" of the vector under the maximum norm.\n",
    "\n",
    "### Applications and Uses in Mathematics\n",
    "\n",
    "The maximum norm has several important applications, especially in applied mathematics and computer science:\n",
    "\n",
    "- **Numerical Analysis:** The maximum norm is used in numerical analysis as a way to estimate the maximum error in approximate calculations.\n",
    "- **Optimization:** In optimization problems, the maximum norm can be useful to restrict solutions to a specific range, especially in infinite linear programming problems.\n",
    "- **Regularization in Machine Learning:** In machine learning, the maximum norm is used as a regularization technique, known as max norm regularization, to prevent overfitting in the weights of neural networks. This helps keep the weights small and prevents some weights from becoming too dominant.\n",
    "\n",
    "### Implementation in NumPy\n",
    "\n",
    "The maximum norm of a vector can be easily calculated in Python using the NumPy library, specifically the `norm()` function from the `numpy.linalg` submodule, passing the parameter `inf` for the order of the norm.\n",
    "\n",
    "This code defines a vector of 3 elements and then calculates its maximum norm. When running the example, the defined vector is first printed and then the maximum norm of the vector, which in this case is 3.0, since 3 is the largest absolute value among the components of the vector.\n",
    "\n",
    "The maximum norm is a useful tool in various areas of mathematics and data science, offering a different perspective on the \"length\" or magnitude of vectors, especially in contexts where the largest component is of particular interest."
   ]
  },
  {
   "cell_type": "code",
   "execution_count": 85,
   "metadata": {},
   "outputs": [
    {
     "name": "stdout",
     "output_type": "stream",
     "text": [
      "The maximum norm of the vector is: 3\n"
     ]
    }
   ],
   "source": [
    "# Define the vector\n",
    "v = [1, -2, 3]\n",
    "\n",
    "# Step 1: Take the absolute value of each component of the vector\n",
    "absolute_values = [abs(x) for x in v]\n",
    "\n",
    "# Step 2: Find the maximum of these absolute values\n",
    "max_norm = max(absolute_values)\n",
    "\n",
    "print(\"The maximum norm of the vector is:\", max_norm)"
   ]
  },
  {
   "cell_type": "code",
   "execution_count": 86,
   "metadata": {},
   "outputs": [
    {
     "name": "stdout",
     "output_type": "stream",
     "text": [
      "[1 2 3]\n",
      "3.0\n"
     ]
    }
   ],
   "source": [
    "from math import inf\n",
    "from numpy import array\n",
    "from numpy.linalg import norm\n",
    "\n",
    "# Define vector\n",
    "a = array([1, 2, 3])\n",
    "print(a)\n",
    "\n",
    "# Calculate maximum norm\n",
    "maxnorm = norm(a, inf)\n",
    "print(maxnorm)"
   ]
  },
  {
   "cell_type": "markdown",
   "metadata": {},
   "source": [
    "# 6. Matrix"
   ]
  },
  {
   "cell_type": "markdown",
   "metadata": {},
   "source": [
    "A matrix is a two-dimensional array of scalars with one or more columns and one or more rows.\n",
    "\n",
    "A matrix is a two-dimensional array (a table) of numbers.\n",
    "\n",
    "The notation for a matrix is often an uppercase letter, such as A, and the entries are referred to by their two-dimensional subscript of row (i) and column (j), such as $a_{i,j}$. For example, we can define a matrix with 3 rows and 2 columns:\n",
    "\n",
    "$$\n",
    "A = ((a_{1,1}, a_{1,2}), (a_{2,1}, a_{2,2}), (a_{3,1}, a_{3,2}))\n",
    "$$\n",
    "\n",
    "It is more common to see matrices defined using horizontal notation.\n",
    "\n",
    "$$\n",
    "A = \\begin{pmatrix}\n",
    "a_{1,1} & a_{1,2} \\\\\n",
    "a_{2,1} & a_{2,2} \\\\\n",
    "a_{3,1} & a_{3,2}\n",
    "\\end{pmatrix}\n",
    "$$\n",
    "\n",
    "A likely first place where you might encounter a matrix in machine learning is in the model training data composed of many rows and columns and often represented using the uppercase letter $X$. The geometric analogy used to help understand vectors and some of their operations does not hold with matrices. Additionally, a vector itself can be considered a matrix with one column and multiple rows. Often, the dimensions of the matrix are denoted as $m$ and $n$ or $m \\times n$ for the number of rows and the number of columns respectively. Now that we know what a matrix is, let's see how to define one in Python."
   ]
  },
  {
   "cell_type": "markdown",
   "metadata": {},
   "source": [
    "## 6.1 Matrices and Matrix Arithmetic"
   ]
  },
  {
   "cell_type": "markdown",
   "metadata": {},
   "source": [
    "En esta sección demostraremos aritmética simple de matriz a matriz, donde todas las operaciones se realizan elemento por elemento entre dos matrices de igual tamaño para resultar en una nueva matriz del mismo tamaño."
   ]
  },
  {
   "cell_type": "markdown",
   "metadata": {},
   "source": [
    "#### 6.1.1 Matrix Addition"
   ]
  },
  {
   "cell_type": "markdown",
   "metadata": {},
   "source": [
    "1. **Definition of Matrices**: Two matrices, `A` and `B`, with the same dimensions are defined. In this case, both matrices are of size 2x3 (two rows and three columns).\n",
    "\n",
    "2. **Matrix Addition**: The matrices `A` and `B` are added using the `+` operator. Matrix addition is performed element-wise. That is, each element of the resulting matrix `C` is the sum of the corresponding elements in `A` and `B`.\n",
    "\n",
    "- The mathematical operation behind matrix addition is straightforward: if you have two matrices `A` and `B` of the same dimensions, then the resulting matrix `C` is calculated by summing the corresponding elements of `A` and `B`.\n",
    "\n",
    "- The mathematical notation used describes how this element-wise addition is performed. For example, the element in the first row and first column of `C` (`C[0, 0]`) is the sum of `A[0, 0]` and `B[0, 0]`.\n",
    "\n",
    "- **Linear Systems**: Matrix addition is used in solving systems of linear equations, where the combination of different systems can be represented by the sum of their corresponding matrices.\n",
    "\n",
    "- **Linear Transformations**: In computer graphics and linear algebra, transformations of objects can be combined by adding their transformation matrices.\n",
    "\n",
    "- **Statistics and Data Science**: In statistics, matrix addition is used to combine data or perform operations on multidimensional datasets."
   ]
  },
  {
   "cell_type": "code",
   "execution_count": 87,
   "metadata": {},
   "outputs": [
    {
     "name": "stdout",
     "output_type": "stream",
     "text": [
      "[[ 2  4  6]\n",
      " [ 8 10 12]]\n"
     ]
    }
   ],
   "source": [
    "from numpy import array\n",
    "\n",
    "# define first matrix\n",
    "A = array([\n",
    "    [1, 2, 3],\n",
    "    [4, 5, 6]\n",
    "])\n",
    "\n",
    "# define second matrix\n",
    "B = array([\n",
    "    [1, 2, 3],\n",
    "    [4, 5, 6]\n",
    "])\n",
    "\n",
    "# add matrices\n",
    "C = A + B\n",
    "\n",
    "print(C)"
   ]
  },
  {
   "cell_type": "markdown",
   "metadata": {},
   "source": [
    "#### 6.1.2 Matrix Subtraction"
   ]
  },
  {
   "cell_type": "markdown",
   "metadata": {},
   "source": [
    "Similarly, a matrix can be subtracted from another matrix with the same dimensions.\n",
    "\n",
    "$$\n",
    "C = A - B\n",
    "$$\n",
    "\n",
    "The scalar elements in the resulting matrix are calculated as the subtraction of the elements in each of the matrices.\n",
    "\n",
    "$$\n",
    "C = \\begin{pmatrix}\n",
    "a_{1,1} - b_{1,1} & a_{1,2} - b_{1,2} \\\\\n",
    "a_{2,1} - b_{2,1} & a_{2,2} - b_{2,2} \\\\\n",
    "a_{3,1} - b_{3,1} & a_{3,2} - b_{3,2}\n",
    "\\end{pmatrix}\n",
    "$$\n",
    "\n",
    "Or, in other words:\n",
    "\n",
    "$$\n",
    "\\begin{aligned}\n",
    "C[0, 0] &= A[0, 0] - B[0, 0] \\\\\n",
    "C[1, 0] &= A[1, 0] - B[1, 0] \\\\\n",
    "C[2, 0] &= A[2, 0] - B[2, 0] \\\\\n",
    "C[0, 1] &= A[0, 1] - B[0, 1] \\\\\n",
    "C[1, 1] &= A[1, 1] - B[1, 1] \\\\\n",
    "C[2, 1] &= A[2, 1] - B[2, 1]\n",
    "\\end{aligned}\n",
    "$$"
   ]
  },
  {
   "cell_type": "code",
   "execution_count": 88,
   "metadata": {},
   "outputs": [
    {
     "name": "stdout",
     "output_type": "stream",
     "text": [
      "[[1 2 3]\n",
      " [4 5 6]]\n",
      "[[0.5 0.5 0.5]\n",
      " [0.5 0.5 0.5]]\n",
      "[[0.5 1.5 2.5]\n",
      " [3.5 4.5 5.5]]\n"
     ]
    }
   ],
   "source": [
    "from numpy import array\n",
    "# define first matrix\n",
    "A = array([\n",
    "    [1, 2, 3],\n",
    "    [4, 5, 6]\n",
    "])\n",
    "print(A)\n",
    "# define second matrix\n",
    "B = array([\n",
    "    [0.5, 0.5, 0.5],\n",
    "    [0.5, 0.5, 0.5]\n",
    "])\n",
    "print(B)\n",
    "# subtract matrices\n",
    "C = A - B\n",
    "print(C)"
   ]
  },
  {
   "cell_type": "markdown",
   "metadata": {},
   "source": [
    "#### 6.1.3 Matrix Multiplication"
   ]
  },
  {
   "cell_type": "markdown",
   "metadata": {},
   "source": [
    "The provided text describes the Hadamard product, also known as element-wise multiplication between two matrices of the same size. This operation is not conventional matrix multiplication, so a different operator, such as a circle ⊙, is used to represent it.\n",
    "\n",
    "The operation is defined as:\n",
    "\n",
    "$$\n",
    "C = A \\circ B\n",
    "$$\n",
    "\n",
    "Where \\(C\\) is the resulting matrix from the element-wise multiplication of matrices \\(A\\) and \\(B\\). Each element in \\(C\\) is calculated by multiplying the corresponding elements in \\(A\\) and \\(B\\).\n",
    "\n",
    "For example, for matrices of size 3x2, the operation would look like this:\n",
    "\n",
    "$$\n",
    "C = \\begin{pmatrix}\n",
    "a_{1,1} \\times b_{1,1} & a_{1,2} \\times b_{1,2} \\\\\n",
    "a_{2,1} \\times b_{2,1} & a_{2,2} \\times b_{2,2} \\\\\n",
    "a_{3,1} \\times b_{3,1} & a_{3,2} \\times b_{3,2}\n",
    "\\end{pmatrix}\n",
    "$$\n",
    "\n",
    "Or, expressed in another way:\n",
    "\n",
    "$$\n",
    "\\begin{aligned}\n",
    "C[0, 0] &= A[0, 0] \\times B[0, 0] \\\\\n",
    "C[1, 0] &= A[1, 0] \\times B[1, 0] \\\\\n",
    "C[2, 0] &= A[2, 0] \\times B[2, 0] \\\\\n",
    "C[0, 1] &= A[0, 1] \\times B[0, 1] \\\\\n",
    "C[1, 1] &= A[1, 1] \\times B[1, 1] \\\\\n",
    "C[2, 1] &= A[2, 1] \\times B[2, 1]\n",
    "\\end{aligned}\n",
    "$$\n",
    "\n",
    "The Hadamard product is fundamental in various areas of mathematics and science, especially in those that require element-wise operations, such as:\n",
    "\n",
    "- **Signal and image processing**: To apply filters or perform point-to-point operations on images.\n",
    "- **Neural networks**: In the forward and backward propagation of neural networks, where neuron activations are multiplied element-wise by gradients.\n",
    "- **Statistics and probability**: For element-wise operations in matrices representing data or probabilities.\n",
    "\n",
    "The Hadamard product allows great flexibility in handling matrices, facilitating operations that would be complex or impossible to perform with conventional matrix multiplication."
   ]
  },
  {
   "cell_type": "code",
   "execution_count": 89,
   "metadata": {},
   "outputs": [
    {
     "name": "stdout",
     "output_type": "stream",
     "text": [
      "[[1 2 3]\n",
      " [4 5 6]]\n",
      "[[1 2 3]\n",
      " [4 5 6]]\n",
      "[[ 1  4  9]\n",
      " [16 25 36]]\n"
     ]
    }
   ],
   "source": [
    "from numpy import array\n",
    "# define first matrix\n",
    "A = array([\n",
    "    [1, 2, 3],\n",
    "    [4, 5, 6]\n",
    "])\n",
    "print(A)\n",
    "# define second matrix\n",
    "B = array([\n",
    "    [1, 2, 3],\n",
    "    [4, 5, 6]\n",
    "])\n",
    "print(B)\n",
    "# multiply matrices\n",
    "C = A * B\n",
    "print(C)"
   ]
  },
  {
   "cell_type": "markdown",
   "metadata": {},
   "source": [
    "#### 6.1.4 Matrix Division"
   ]
  },
  {
   "cell_type": "markdown",
   "metadata": {},
   "source": [
    "The provided text describes how a matrix can be divided by another matrix of the same dimensions, element by element. This operation is known as element-wise division or Hadamard division, although this term is more commonly used for element-wise multiplication.\n",
    "\n",
    "The operation is mathematically defined as:\n",
    "\n",
    "$$\n",
    "C = \\frac{A}{B}\n",
    "$$\n",
    "\n",
    "Where \\(C\\) is the resulting matrix from dividing each element of matrix \\(A\\) by the corresponding element in the same position of matrix \\(B\\).\n",
    "\n",
    "For example, for matrices of size 3x2, the operation would look like this:\n",
    "\n",
    "$$\n",
    "C = \\begin{pmatrix}\n",
    "\\frac{a_{1,1}}{b_{1,1}} & \\frac{a_{1,2}}{b_{1,2}} \\\\\n",
    "\\frac{a_{2,1}}{b_{2,1}} & \\frac{a_{2,2}}{b_{2,2}} \\\\\n",
    "\\frac{a_{3,1}}{b_{3,1}} & \\frac{a_{3,2}}{b_{3,2}}\n",
    "\\end{pmatrix}\n",
    "$$\n",
    "\n",
    "Or, expressed in another way:\n",
    "\n",
    "$$\n",
    "\\begin{aligned}\n",
    "C[0, 0] &= \\frac{A[0, 0]}{B[0, 0]} \\\\\n",
    "C[1, 0] &= \\frac{A[1, 0]}{B[1, 0]} \\\\\n",
    "C[2, 0] &= \\frac{A[2, 0]}{B[2, 0]} \\\\\n",
    "C[0, 1] &= \\frac{A[0, 1]}{B[0, 1]} \\\\\n",
    "C[1, 1] &= \\frac{A[1, 1]}{B[1, 1]} \\\\\n",
    "C[2, 1] &= \\frac{A[2, 1]}{B[2, 1]}\n",
    "\\end{aligned}\n",
    "$$\n",
    "\n",
    "The implementation in Python of this operation is done using the division operator (/) directly on two NumPy arrays.\n",
    "\n",
    "Element-wise division is useful in various mathematical and scientific applications, especially those that require direct and specific operations on the elements of matrices, such as:\n",
    "\n",
    "- **Signal and image processing**: To adjust image intensity or apply specific corrections to each pixel.\n",
    "- **Statistical analysis**: To normalize data, where each element of a data matrix can be divided by a corresponding value (e.g., an average) to obtain a relative measure.\n",
    "- **Machine learning and neural networks**: In some normalization operations or weight adjustments during model training.\n",
    "\n",
    "It is important to note that this operation requires that no element in matrix \\(B\\) is zero, as division by zero is undefined and would result in an error during code execution."
   ]
  },
  {
   "cell_type": "code",
   "execution_count": 90,
   "metadata": {},
   "outputs": [
    {
     "name": "stdout",
     "output_type": "stream",
     "text": [
      "[[1 2 3]\n",
      " [4 5 6]]\n",
      "[[1 2 3]\n",
      " [4 5 6]]\n",
      "[[1. 1. 1.]\n",
      " [1. 1. 1.]]\n"
     ]
    }
   ],
   "source": [
    "from numpy import array\n",
    "# define first matrix\n",
    "A = array([\n",
    "    [1, 2, 3],\n",
    "    [4, 5, 6]\n",
    "])\n",
    "print(A)\n",
    "# define second matrix\n",
    "B = array([\n",
    "    [1, 2, 3],\n",
    "    [4, 5, 6]\n",
    "])\n",
    "print(B)\n",
    "# divide matrices\n",
    "C = A / B\n",
    "print(C)"
   ]
  },
  {
   "cell_type": "markdown",
   "metadata": {},
   "source": [
    "## 6.2 Matrix-Matrix Multiplication"
   ]
  },
  {
   "cell_type": "markdown",
   "metadata": {},
   "source": [
    "Matrix multiplication, also known as the dot product of matrices, is a more complex operation than the previous ones and follows a specific rule, as not all matrices can be multiplied by each other.\n",
    "\n",
    "The rule for matrix multiplication is as follows:\n",
    "\n",
    "- The number of columns (n) in the first matrix (A) must be equal to the number of rows (m) in the second matrix (B).\n",
    "\n",
    "For example, if matrix A has dimensions of m rows and n columns and matrix B has dimensions of n x k, the n columns in A and the n rows in B are equal. The result is a new matrix with m rows and k columns.\n",
    "\n",
    "$$\n",
    "C(m, k) = A(m, n) \\cdot B(n, k)\n",
    "$$\n",
    "\n",
    "This rule applies to a chain of matrix multiplications where the number of columns in one matrix of the chain must match the number of rows in the next matrix of the chain.\n",
    "\n",
    "For example, given matrices A and B:\n",
    "\n",
    "$$\n",
    "A = \\begin{pmatrix}\n",
    "a_{1,1} & a_{1,2} \\\\\n",
    "a_{2,1} & a_{2,2}\n",
    "\\end{pmatrix}\n",
    "$$\n",
    "\n",
    "$$\n",
    "B = \\begin{pmatrix}\n",
    "b_{1,1} & b_{1,2} \\\\\n",
    "b_{2,1} & b_{2,2}\n",
    "\\end{pmatrix}\n",
    "$$\n",
    "\n",
    "The product matrix C is given by:\n",
    "\n",
    "$$\n",
    "C = \\begin{pmatrix}\n",
    "a_{1,1} \\times b_{1,1} + a_{1,2} \\times b_{2,1} & a_{1,1} \\times b_{1,2} + a_{1,2} \\times b_{2,2} \\\\\n",
    "a_{2,1} \\times b_{1,1} + a_{2,2} \\times b_{2,1} & a_{2,1} \\times b_{1,2} + a_{2,2} \\times b_{2,2}\n",
    "\\end{pmatrix}\n",
    "$$\n",
    "\n",
    "We can describe the matrix multiplication operation using array notation.\n",
    "\n",
    "$$\n",
    "\\begin{aligned}\n",
    "C[0, 0] &= A[0, 0] \\times B[0, 0] + A[0, 1] \\times B[1, 0] \\\\\n",
    "C[1, 0] &= A[1, 0] \\times B[0, 0] + A[1, 1] \\times B[1, 0] \\\\\n",
    "C[0, 1] &= A[0, 0] \\times B[0, 1] + A[0, 1] \\times B[1, 1] \\\\\n",
    "C[1, 1] &= A[1, 0] \\times B[0, 1] + A[1, 1] \\times B[1, 1]\n",
    "\\end{aligned}\n",
    "$$\n",
    "\n",
    "The matrix multiplication operation can be implemented in NumPy using the `dot()` function. It can also be calculated using the newer `@` operator, available since Python version 3.5. The example below demonstrates both methods.\n",
    "\n",
    "### Functionality and Mathematical Applications\n",
    "\n",
    "Matrix multiplication is fundamental in many areas of mathematics and science, including:\n",
    "\n",
    "- **Linear algebra**: Where it is used to represent systems of linear equations.\n",
    "- **Computer science**: In computer graphics, for object transformations in space.\n",
    "- **Physics**: To describe rotations and transformations in quantum mechanics and relativity.\n",
    "- **Economics**: In economic models to calculate the product of input-output matrices.\n",
    "\n",
    "This operation allows the combination of linear transformations, making it powerful for modeling and solving complex mathematical and scientific problems."
   ]
  },
  {
   "cell_type": "code",
   "execution_count": 91,
   "metadata": {},
   "outputs": [
    {
     "name": "stdout",
     "output_type": "stream",
     "text": [
      "[[1 2]\n",
      " [3 4]]\n",
      "[[2 0]\n",
      " [1 2]]\n",
      "[[ 4  4]\n",
      " [10  8]]\n",
      "[[ 4  4]\n",
      " [10  8]]\n"
     ]
    }
   ],
   "source": [
    "# matrix dot product\n",
    "from numpy import array\n",
    "# define the first matrix\n",
    "A = array([\n",
    "    [1, 2],\n",
    "    [3, 4]\n",
    "])\n",
    "print(A)\n",
    "# define the second matrix\n",
    "B = array([\n",
    "    [2, 0],\n",
    "    [1, 2]\n",
    "])\n",
    "print(B)\n",
    "# multiply matrices using the dot function\n",
    "C = A.dot(B)\n",
    "print(C)\n",
    "# multiply matrices using the @ operator\n",
    "C = A @ B\n",
    "print(C)"
   ]
  },
  {
   "cell_type": "markdown",
   "metadata": {},
   "source": [
    "## 6.3 Matrix-Vector Multiplication"
   ]
  },
  {
   "cell_type": "markdown",
   "metadata": {},
   "source": [
    "A matrix and a vector can be multiplied together as long as the matrix multiplication rule is observed. Specifically, the number of columns in the matrix must be equal to the number of elements in the vector. As with matrix multiplication, the operation can be written using dot notation. Since the vector has only one column, the result is always a vector.\n",
    "\n",
    "$$\n",
    "c = A \\cdot v\n",
    "$$\n",
    "\n",
    "Or without the dot, in a compact form.\n",
    "\n",
    "$$\n",
    "c = Av \n",
    "$$\n",
    "\n",
    "The result is a vector with the same number of rows as the original matrix.\n",
    "\n",
    "$$\n",
    "A = \\begin{pmatrix}\n",
    "a_{1,1} & a_{1,2} \\\\\n",
    "a_{2,1} & a_{2,2} \\\\\n",
    "a_{3,1} & a_{3,2}\n",
    "\\end{pmatrix}\n",
    "$$\n",
    "\n",
    "$$\n",
    "v = \\begin{pmatrix}\n",
    "v_1 \\\\\n",
    "v_2\n",
    "\\end{pmatrix}\n",
    "$$\n",
    "\n",
    "$$\n",
    "c = \\begin{pmatrix}\n",
    "a_{1,1} \\times v_1 + a_{1,2} \\times v_2 \\\\\n",
    "a_{2,1} \\times v_1 + a_{2,2} \\times v_2 \\\\\n",
    "a_{3,1} \\times v_1 + a_{3,2} \\times v_2\n",
    "\\end{pmatrix}\n",
    "$$\n",
    "\n",
    "Or, more compactly.\n",
    "\n",
    "$$\n",
    "c = \\begin{pmatrix}\n",
    "a_{1,1}v_1 + a_{1,2}v_2 \\\\\n",
    "a_{2,1}v_1 + a_{2,2}v_2 \\\\\n",
    "a_{3,1}v_1 + a_{3,2}v_2\n",
    "\\end{pmatrix}\n",
    "$$\n",
    "\n",
    "We can also represent this with array notation.\n",
    "\n",
    "$$\n",
    "\\begin{aligned}\n",
    "c[0] &= A[0, 0] \\times v[0] + A[0, 1] \\times v[1] \\\\\n",
    "c[1] &= A[1, 0] \\times v[0] + A[1, 1] \\times v[1] \\\\\n",
    "c[2] &= A[2, 0] \\times v[0] + A[2, 1] \\times v[1]\n",
    "\\end{aligned}\n",
    "$$\n",
    "\n",
    "Matrix-vector multiplication can be implemented in NumPy using the `dot()` function.\n",
    "\n",
    "Multiplying a matrix by a vector is a fundamental operation in linear algebra. This operation has many practical applications, including:\n",
    "\n",
    "- **Linear transformations**: In computer graphics, object transformations in space (such as rotations, scaling, and translations) can be represented as matrix-vector multiplications.\n",
    "- **Systems of linear equations**: Solving a system of linear equations can be represented as multiplying a matrix (the coefficients of the equations) by a vector (the unknowns) to equal another vector (the independent terms).\n",
    "- **Network analysis**: In graph theory and network analysis, matrix-vector multiplication is used to calculate network properties, such as node centrality."
   ]
  },
  {
   "cell_type": "code",
   "execution_count": 92,
   "metadata": {},
   "outputs": [
    {
     "name": "stdout",
     "output_type": "stream",
     "text": [
      "[[1 2]\n",
      " [3 4]\n",
      " [5 6]]\n",
      "[0.5 0.5]\n",
      "[1.5 3.5 5.5]\n"
     ]
    }
   ],
   "source": [
    "# matrix-vector multiplication\n",
    "from numpy import array\n",
    "# define matrix\n",
    "A = array([\n",
    "    [1, 2],\n",
    "    [3, 4],\n",
    "    [5, 6]\n",
    "])\n",
    "print(A)\n",
    "# define vector\n",
    "B = array([0.5, 0.5])\n",
    "print(B)\n",
    "# multiply\n",
    "C = A.dot(B)\n",
    "print(C)"
   ]
  },
  {
   "cell_type": "markdown",
   "metadata": {},
   "source": [
    "## 6.4 Scalar-Matrix Multiplication"
   ]
  },
  {
   "cell_type": "markdown",
   "metadata": {},
   "source": [
    "A matrix can be multiplied by a scalar. This can be represented using dot notation between the matrix and the scalar.\n",
    "\n",
    "$$\n",
    "C = A \\cdot b\n",
    "$$\n",
    "\n",
    "Or without dot notation.\n",
    "\n",
    "$$\n",
    "C = Ab\n",
    "$$\n",
    "\n",
    "The result is a matrix of the same size as the original matrix where each element of the matrix is multiplied by the scalar value.\n",
    "\n",
    "$$\n",
    "A = \\begin{pmatrix}\n",
    "a_{1,1} & a_{1,2} \\\\\n",
    "a_{2,1} & a_{2,2} \\\\\n",
    "a_{3,1} & a_{3,2}\n",
    "\\end{pmatrix}\n",
    "$$\n",
    "\n",
    "$$\n",
    "C = \\begin{pmatrix}\n",
    "a_{1,1} \\times b + a_{1,2} \\times b \\\\\n",
    "a_{2,1} \\times b + a_{2,2} \\times b \\\\\n",
    "a_{3,1} \\times b + a_{3,2} \\times b\n",
    "\\end{pmatrix}\n",
    "$$\n",
    "\n",
    "or\n",
    "\n",
    "$$\n",
    "C = \\begin{pmatrix}\n",
    "a_{1,1}b + a_{1,2}b \\\\\n",
    "a_{2,1}b + a_{2,2}b \\\\\n",
    "a_{3,1}b + a_{3,2}b\n",
    "\\end{pmatrix}\n",
    "$$\n",
    "\n",
    "We can also represent this with array notation.\n",
    "\n",
    "$$\n",
    "\\begin{aligned}\n",
    "C[0, 0] &= A[0, 0] \\times b \\\\\n",
    "C[1, 0] &= A[1, 0] \\times b \\\\\n",
    "C[2, 0] &= A[2, 0] \\times b \\\\\n",
    "C[0, 1] &= A[0, 1] \\times b \\\\\n",
    "C[1, 1] &= A[1, 1] \\times b \\\\\n",
    "C[2, 1] &= A[2, 1] \\times b\n",
    "\\end{aligned}\n",
    "$$\n",
    "\n",
    "Multiplying a matrix by a scalar is a basic operation in linear algebra. This operation has several practical applications, including:\n",
    "\n",
    "- **Scaling**: In computer graphics, it is used to change the size of objects represented by matrices.\n",
    "- **Intensity adjustment**: In image processing, it can be used to adjust the brightness of an image by multiplying each pixel value (represented in a matrix) by a scalar.\n",
    "- **Normalization**: In statistics and machine learning, it is used to normalize data by multiplying by a scaling factor."
   ]
  },
  {
   "cell_type": "code",
   "execution_count": 93,
   "metadata": {},
   "outputs": [
    {
     "name": "stdout",
     "output_type": "stream",
     "text": [
      "[[1 2]\n",
      " [3 4]\n",
      " [5 6]]\n",
      "0.5\n",
      "[[0.5 1. ]\n",
      " [1.5 2. ]\n",
      " [2.5 3. ]]\n"
     ]
    }
   ],
   "source": [
    "# matrix-scalar multiplication\n",
    "from numpy import array\n",
    "# define matrix\n",
    "A = array([\n",
    "    [1, 2],\n",
    "    [3, 4],\n",
    "    [5, 6]\n",
    "])\n",
    "print(A)\n",
    "# define scalar\n",
    "b = 0.5\n",
    "print(b)\n",
    "# multiply\n",
    "C = A * b\n",
    "print(C)"
   ]
  },
  {
   "cell_type": "markdown",
   "metadata": {},
   "source": [
    "# 7. Types of Matrix"
   ]
  },
  {
   "cell_type": "markdown",
   "metadata": {},
   "source": [
    "## 7.1 Square Matrix"
   ]
  },
  {
   "cell_type": "markdown",
   "metadata": {},
   "source": [
    "A square matrix is a matrix where the number of rows (n) is equivalent to the number of columns (m).\n",
    "\n",
    "$$\n",
    "n \\equiv m\n",
    "$$\n",
    "\n",
    "The square matrix contrasts with the rectangular matrix where the number of rows and columns are not equal. Since the number of rows and columns match, the dimensions are often denoted as n, for example, n × n. The size of the matrix is called the order, so a square matrix of order 4 is 4 × 4. The vector of values along the diagonal of the matrix from the top left to the bottom right is called the main diagonal. Below is an example of a square matrix of order 3.\n",
    "\n",
    "$$\n",
    "M = \\begin{pmatrix}\n",
    "1 & 2 & 3 \\\\\n",
    "1 & 2 & 3 \\\\\n",
    "1 & 2 & 3\n",
    "\\end{pmatrix}\n",
    "$$\n",
    "\n",
    "Square matrices are easily added and multiplied with each other and are the basis of many simple linear transformations, such as rotations (like in image rotations)."
   ]
  },
  {
   "cell_type": "markdown",
   "metadata": {},
   "source": [
    "## 7.2 Symmetric Matrix"
   ]
  },
  {
   "cell_type": "markdown",
   "metadata": {},
   "source": [
    "A symmetric matrix is a type of square matrix where the upper right triangle is the same as the lower left triangle.\n",
    "\n",
    "> It is not an exaggeration to say that symmetric matrices $S$ are the most important matrices the world will ever see, both in the theory of linear algebra and its applications.\n",
    ">\n",
    "> — Page 338, _Introduction to Linear Algebra_, Fifth Edition, 2016.\n",
    "\n",
    "To be symmetric, the axis of symmetry is always the main diagonal of the matrix, from the top left to the bottom right. Below is an example of a 5 × 5 symmetric matrix.\n",
    "\n",
    "$$\n",
    "M = \\begin{pmatrix}\n",
    "1 & 2 & 3 & 4 & 5 \\\\\n",
    "2 & 1 & 2 & 3 & 4 \\\\\n",
    "3 & 2 & 1 & 2 & 3 \\\\\n",
    "4 & 3 & 2 & 1 & 2 \\\\\n",
    "5 & 4 & 3 & 2 & 1\n",
    "\\end{pmatrix}\n",
    "$$\n",
    "\n",
    "A symmetric matrix is always square and equal to its own transpose. Transposition is an operation that swaps the number of rows and columns. This will be explained in more detail in the next lesson.\n",
    "\n",
    "$$\n",
    "M = M^T\n",
    "$$"
   ]
  },
  {
   "cell_type": "markdown",
   "metadata": {},
   "source": [
    "## 7.3 Triangular Matrix"
   ]
  },
  {
   "cell_type": "markdown",
   "metadata": {},
   "source": [
    "A triangular matrix is a type of square matrix that has all the values in the upper right or lower left part of the matrix, with the remaining elements filled with zeros. A triangular matrix with values only above the main diagonal is called an upper triangular matrix. Conversely, a triangular matrix with values only below the main diagonal is called a lower triangular matrix. Below is an example of a 3 × 3 upper triangular matrix.\n",
    "\n",
    "$$\n",
    "M = \\begin{pmatrix}\n",
    "1 & 2 & 3 \\\\\n",
    "0 & 2 & 3 \\\\\n",
    "0 & 0 & 3\n",
    "\\end{pmatrix}\n",
    "$$\n",
    "\n",
    "Below is an example of a 3 × 3 lower triangular matrix.\n",
    "\n",
    "$$\n",
    "M = \\begin{pmatrix}\n",
    "1 & 0 & 0 \\\\\n",
    "1 & 2 & 0 \\\\\n",
    "1 & 2 & 3\n",
    "\\end{pmatrix}\n",
    "$$\n",
    "\n",
    "NumPy provides functions to compute a triangular matrix from an existing square matrix. The `tril()` function computes the lower triangular matrix from a given matrix, and the `triu()` function computes the upper triangular matrix from a given matrix. The example below defines a 3 × 3 square matrix and computes the lower and upper triangular matrices from it."
   ]
  },
  {
   "cell_type": "code",
   "execution_count": 94,
   "metadata": {},
   "outputs": [
    {
     "name": "stdout",
     "output_type": "stream",
     "text": [
      "[[1 2 3]\n",
      " [1 2 3]\n",
      " [1 2 3]]\n",
      "[[1 0 0]\n",
      " [1 2 0]\n",
      " [1 2 3]]\n",
      "[[1 2 3]\n",
      " [0 2 3]\n",
      " [0 0 3]]\n"
     ]
    }
   ],
   "source": [
    "# triangular matrices\n",
    "from numpy import array\n",
    "from numpy import tril\n",
    "from numpy import triu\n",
    "# define square matrix\n",
    "M = array([\n",
    "    [1, 2, 3],\n",
    "    [1, 2, 3],\n",
    "    [1, 2, 3]\n",
    "])\n",
    "print(M)\n",
    "# lower triangular matrix\n",
    "lower = tril(M)\n",
    "print(lower)\n",
    "# upper triangular matrix\n",
    "upper = triu(M)\n",
    "print(upper)"
   ]
  },
  {
   "cell_type": "markdown",
   "metadata": {},
   "source": [
    "## 7.4 Diagonal matrix "
   ]
  },
  {
   "cell_type": "markdown",
   "metadata": {},
   "source": [
    "A diagonal matrix is one where values outside of the main diagonal have a zero value, where the main diagonal is taken from the top left of the matrix to the bottom right. A diagonal matrix is often denoted with the variable $D$ and may be represented as a full matrix or as a vector of values on the main diagonal.\n",
    "\n",
    "> Diagonal matrices consist mostly of zeros and have non-zero entries only along the main diagonal.\n",
    ">\n",
    "> — Page 40, _Deep Learning_, 2016.\n",
    "\n",
    "Below is an example of a 3 × 3 square diagonal matrix.\n",
    "\n",
    "$$\n",
    "D = \\begin{pmatrix}\n",
    "1 & 0 & 0 \\\\\n",
    "0 & 2 & 0 \\\\\n",
    "0 & 0 & 3\n",
    "\\end{pmatrix}\n",
    "$$\n",
    "\n",
    "As a vector, it would be represented as:\n",
    "\n",
    "$$\n",
    "d = \\begin{pmatrix}\n",
    "d_{1,1} \\\\\n",
    "d_{2,2} \\\\\n",
    "d_{3,3}\n",
    "\\end{pmatrix}\n",
    "$$\n",
    "\n",
    "Or, with the specified scalar values:\n",
    "\n",
    "$$\n",
    "d = \\begin{pmatrix}\n",
    "1 \\\\\n",
    "2 \\\\\n",
    "3\n",
    "\\end{pmatrix}\n",
    "$$\n",
    "\n",
    "A diagonal matrix does not have to be square. In the case of a rectangular matrix, the diagonal would cover the dimension with the smallest length; for example:\n",
    "\n",
    "$$\n",
    "D = \\begin{pmatrix}\n",
    "1 & 0 & 0 & 0 \\\\\n",
    "0 & 2 & 0 & 0 \\\\\n",
    "0 & 0 & 3 & 0 \\\\\n",
    "0 & 0 & 0 & 4\n",
    "\\end{pmatrix}\n",
    "$$\n",
    "\n",
    "NumPy provides the function `diag()` that can create a diagonal matrix from an existing matrix, or transform a vector into a diagonal matrix. The example below defines a 3 × 3 square matrix, extracts the main diagonal as a vector, and then creates a diagonal matrix from the extracted vector."
   ]
  },
  {
   "cell_type": "code",
   "execution_count": 95,
   "metadata": {},
   "outputs": [
    {
     "name": "stdout",
     "output_type": "stream",
     "text": [
      "[[1 2 3]\n",
      " [4 5 6]\n",
      " [7 8 9]]\n",
      "[1 5 9]\n",
      "[[1 0 0]\n",
      " [0 5 0]\n",
      " [0 0 9]]\n"
     ]
    }
   ],
   "source": [
    "# diagonal matrix\n",
    "from numpy import array\n",
    "from numpy import diag\n",
    "# define matrix\n",
    "A = array([\n",
    "    [1, 2, 3],\n",
    "    [4, 5, 6],\n",
    "    [7, 8, 9]\n",
    "])\n",
    "print(A)\n",
    "# extract diagonal\n",
    "d = diag(A)\n",
    "print(d)\n",
    "# create diagonal matrix\n",
    "D = diag(d)\n",
    "print(D)"
   ]
  },
  {
   "cell_type": "markdown",
   "metadata": {},
   "source": [
    "## 7.5 Identity Matrix"
   ]
  },
  {
   "cell_type": "markdown",
   "metadata": {},
   "source": [
    "An identity matrix is a square matrix that does not change a vector when multiplied. The values of an identity matrix are known. All of the scalar values along the main diagonal (top-left to bottom-right) have the value one, while all other values are zero.\n",
    "\n",
    "> An identity matrix is a matrix that does not change any vector when we multiply that vector by that matrix.\n",
    ">\n",
    "> — Page 36, _Deep Learning_, 2016.\n",
    "\n",
    "An identity matrix is often represented using the notation $I$ or with the dimensionality $I^n$, where $n$ is a subscript that indicates the dimensionality of the square identity matrix. In some notations, the identity may be referred to as the unit matrix, or $U$, to honor the one value it contains (this is different from a Unitary matrix). For example, an identity matrix with the size 3 or $I^3$ would be as follows:\n",
    "\n",
    "$$\n",
    "I = \\begin{pmatrix}\n",
    "1 & 0 & 0 \\\\\n",
    "0 & 1 & 0 \\\\\n",
    "0 & 0 & 1\n",
    "\\end{pmatrix} \\tag{10.11}\n",
    "$$\n"
   ]
  },
  {
   "cell_type": "code",
   "execution_count": 96,
   "metadata": {},
   "outputs": [
    {
     "name": "stdout",
     "output_type": "stream",
     "text": [
      "[[1. 0. 0.]\n",
      " [0. 1. 0.]\n",
      " [0. 0. 1.]]\n"
     ]
    }
   ],
   "source": [
    "# identity matrix\n",
    "from numpy import identity\n",
    "I = identity(3)\n",
    "print(I)"
   ]
  },
  {
   "cell_type": "markdown",
   "metadata": {},
   "source": [
    "## 7.6 Identity Matrix"
   ]
  },
  {
   "cell_type": "markdown",
   "metadata": {},
   "source": [
    "Two vectors are orthogonal when their dot product equals zero. The length of each vector is 1 then the vectors are called orthonormal because they are both orthogonal and normalized.\n",
    "\n",
    "$$\n",
    "v \\cdot w = 0\n",
    "$$\n",
    "\n",
    "or\n",
    "\n",
    "$$\n",
    "v \\cdot w^T = 0\n",
    "$$\n",
    "\n",
    "This is intuitive when we consider that one line is orthogonal with another if it is perpendicular to it. An orthogonal matrix is a type of square matrix whose columns and rows are orthonormal unit vectors, e.g., perpendicular and have a length or magnitude of 1.\n",
    "\n",
    "> An orthogonal matrix is a square matrix whose rows are mutually orthonormal and whose columns are mutually orthonormal\n",
    ">\n",
    "> — Page 41, _Deep Learning_, 2016.\n",
    "\n",
    "An Orthogonal matrix is often denoted as uppercase $Q$.\n",
    "\n",
    "> Multiplication by an orthogonal matrix preserves lengths.\n",
    ">\n",
    "> — Page 277, _No Bullshit Guide To Linear Algebra_, 2017.\n",
    "\n",
    "The Orthogonal matrix is defined formally as follows:\n",
    "\n",
    "$$\n",
    "Q^T \\cdot Q = Q \\cdot Q^T = I\n",
    "$$\n",
    "\n",
    "Where $Q$ is the orthogonal matrix, $Q^T$ indicates the transpose of $Q$, and $I$ is the identity matrix. A matrix is orthogonal if its transpose is equal to its inverse.\n",
    "\n",
    "$$\n",
    "Q^T = Q^{-1}\n",
    "$$\n",
    "\n",
    "Another equivalence for an orthogonal matrix is if the dot product of the matrix and itself equals the identity matrix.\n",
    "\n",
    "$$\n",
    "Q \\cdot Q^T = I\n",
    "$$\n",
    "\n",
    "Orthogonal matrices are used a lot for linear transformations, such as reflections and permutations. A simple 2 × 2 orthogonal matrix is listed below, which is an example of a reflection matrix or coordinate reflection.\n",
    "\n",
    "$$\n",
    "Q = \\begin{pmatrix}\n",
    "1 & 0 \\\\\n",
    "0 & -1\n",
    "\\end{pmatrix}\n",
    "$$\n",
    "\n",
    "The example below creates this orthogonal matrix and checks the above equivalences.\n",
    "\n",
    "Running the example first prints the orthogonal matrix, the inverse of the orthogonal matrix, and the transpose of the orthogonal matrix are then printed and are shown to be equivalent. Finally, the identity matrix is printed which is calculated from the dot product of the orthogonal matrix with its transpose."
   ]
  },
  {
   "cell_type": "code",
   "execution_count": 97,
   "metadata": {},
   "outputs": [
    {
     "name": "stdout",
     "output_type": "stream",
     "text": [
      "[[ 1  0]\n",
      " [ 0 -1]]\n",
      "[[ 1  0]\n",
      " [ 0 -1]]\n",
      "[[ 1.  0.]\n",
      " [-0. -1.]]\n",
      "[[1 0]\n",
      " [0 1]]\n"
     ]
    }
   ],
   "source": [
    "# orthogonal matrix\n",
    "from numpy import array\n",
    "from numpy.linalg import inv\n",
    "# define orthogonal matrix\n",
    "Q = array([\n",
    "    [1, 0],\n",
    "    [0, -1]\n",
    "])\n",
    "print(Q)\n",
    "# inverse equivalence\n",
    "V = inv(Q)\n",
    "print(Q.T)\n",
    "print(V)\n",
    "# identity equivalence\n",
    "I = Q.dot(Q.T)\n",
    "print(I)\n"
   ]
  },
  {
   "cell_type": "markdown",
   "metadata": {},
   "source": [
    "Note, sometimes a number close to zero can be represented as -0 due to the rounding of\n",
    "floating point precision. Just take it as 0.0. Orthogonal matrices are useful tools as they are\n",
    "computationally cheap and stable to calculate their inverse as simply their transpose."
   ]
  },
  {
   "cell_type": "markdown",
   "metadata": {},
   "source": [
    "# 8. Matrix Operations"
   ]
  },
  {
   "cell_type": "markdown",
   "metadata": {},
   "source": [
    "## 8.1 Transpose "
   ]
  },
  {
   "cell_type": "markdown",
   "metadata": {},
   "source": [
    "A defined matrix can be transposed, which creates a new matrix with the number of columns and rows flipped. This is denoted by the superscript $T$ next to the matrix $A^T$.\n",
    "\n",
    "$$\n",
    "C = A^T\n",
    "$$\n",
    "\n",
    "An invisible diagonal line can be drawn through the matrix from top left to bottom right on which the matrix can be flipped to give the transpose.\n",
    "\n",
    "$$\n",
    "A = \\begin{pmatrix}\n",
    "1 & 2 \\\\\n",
    "3 & 4 \\\\\n",
    "5 & 6\n",
    "\\end{pmatrix}\n",
    "$$\n",
    "\n",
    "$$\n",
    "A^T = \\begin{pmatrix}\n",
    "1 & 3 & 5 \\\\\n",
    "2 & 4 & 6\n",
    "\\end{pmatrix}\n",
    "$$\n",
    "\n",
    "The operation has no effect if the matrix is symmetrical, e.g. has the same number of columns and rows and the same values at the same locations on both sides of the invisible diagonal line.\n",
    "\n",
    "The columns of $A^T$ are the rows of $A$.\n",
    "\n",
    "> — Page 109, _Introduction to Linear Algebra_, Fifth Edition, 2016.\n",
    "\n",
    "We can transpose a matrix in NumPy by calling the T attribute."
   ]
  },
  {
   "cell_type": "code",
   "execution_count": 98,
   "metadata": {},
   "outputs": [
    {
     "name": "stdout",
     "output_type": "stream",
     "text": [
      "[[1 2]\n",
      " [3 4]\n",
      " [5 6]]\n",
      "[[1 3 5]\n",
      " [2 4 6]]\n"
     ]
    }
   ],
   "source": [
    "# transpose matrix\n",
    "from numpy import array\n",
    "# define matrix\n",
    "A = array([\n",
    "    [1, 2],\n",
    "    [3, 4],\n",
    "    [5, 6]\n",
    "])\n",
    "print(A)\n",
    "# calculate transpose\n",
    "C = A.T\n",
    "print(C)"
   ]
  }
 ],
 "metadata": {
  "kernelspec": {
   "display_name": "Python 3",
   "language": "python",
   "name": "python3"
  },
  "language_info": {
   "codemirror_mode": {
    "name": "ipython",
    "version": 3
   },
   "file_extension": ".py",
   "mimetype": "text/x-python",
   "name": "python",
   "nbconvert_exporter": "python",
   "pygments_lexer": "ipython3",
   "version": "3.10.12"
  }
 },
 "nbformat": 4,
 "nbformat_minor": 2
}
